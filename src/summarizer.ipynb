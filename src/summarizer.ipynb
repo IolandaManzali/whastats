{
 "cells": [
  {
   "cell_type": "markdown",
   "metadata": {},
   "source": [
    "# Whatstics\n",
    "\n",
    "### This script summarizes a WhatsApp chat history.\n",
    "\n",
    "<br>\n",
    "\n",
    "🚨🚨🚨🚨🚨 CAUTION 🚨🚨🚨🚨🚨\n",
    "\n",
    "The script use openai api and may cost you A LOT OF MONEY. Please be aware of that.\n",
    "\n",
    "<br>"
   ]
  },
  {
   "cell_type": "markdown",
   "metadata": {},
   "source": [
    "# 1. First configure Date limits and the paths\n",
    "\n",
    "For example:\n",
    "- START_DATE = \"2024-08-23\"\n",
    "- END_DATE = \"2024-08-23\"\n",
    "- PATH = \"../history/chat.txt\"\n",
    "- OUTPUT_PATH = \"../summary/output.txt\"\n",
    "\n",
    "Start and end date are inclusive, and must be equal\n",
    "\n",
    "🚨🚨🚨🚨🚨 CAUTION 🚨🚨🚨🚨🚨\n",
    "\n",
    "Bigger the date range, more expensive the cost."
   ]
  },
  {
   "cell_type": "code",
   "execution_count": 1,
   "metadata": {},
   "outputs": [],
   "source": [
    "START_DATE = \"2024-08-23\"\n",
    "END_DATE = \"2024-08-23\"\n",
    "\n",
    "FILE_PATH = \"../history/conversa.txt\"\n",
    "SUMMARY_PATH = \"../summary/summary.txt\""
   ]
  },
  {
   "cell_type": "code",
   "execution_count": 2,
   "metadata": {},
   "outputs": [
    {
     "data": {
      "text/plain": [
       "True"
      ]
     },
     "execution_count": 2,
     "metadata": {},
     "output_type": "execute_result"
    }
   ],
   "source": [
    "from dotenv import load_dotenv\n",
    "\n",
    "# Load environment variables from .env file\n",
    "load_dotenv()\n"
   ]
  },
  {
   "cell_type": "code",
   "execution_count": 3,
   "metadata": {},
   "outputs": [
    {
     "name": "stderr",
     "output_type": "stream",
     "text": [
      "/home/bruno/anaconda3/envs/hug/lib/python3.11/site-packages/pandas/core/arrays/masked.py:60: UserWarning: Pandas requires version '1.3.6' or newer of 'bottleneck' (version '1.3.5' currently installed).\n",
      "  from pandas.core import (\n"
     ]
    }
   ],
   "source": [
    "import pandas as pd\n",
    "import re\n",
    "\n",
    "\n",
    "def add_mesage_to_df(messages, date, time, id, message, type_=\"message\", subtype=None):\n",
    "    messages.append(\n",
    "        {\n",
    "            \"Date\": date,\n",
    "            \"Time\": time,\n",
    "            \"Id\": id,\n",
    "            \"Message\": message,\n",
    "            \"Type\": type_,\n",
    "            \"Action_type\": subtype,\n",
    "        }\n",
    "    )\n",
    "    return messages\n",
    "\n",
    "\n",
    "def manage_action(messages, current_date, current_time, id, rest_of_line):\n",
    "    if \"entrou usando o link de convite deste grupo\" in rest_of_line:\n",
    "        action_type = \"entry\"\n",
    "        id = rest_of_line.split(\"entrou usando o link de convite deste grupo\")[\n",
    "            0\n",
    "        ].strip()\n",
    "    elif \"saiu\" in rest_of_line:\n",
    "        action_type = \"exit\"\n",
    "        id = rest_of_line.split(\"saiu\")[0].strip()\n",
    "    elif \"mudou a descrição do grupo\" in rest_of_line:\n",
    "        action_type = \"description_change\"\n",
    "        id = rest_of_line.split(\"mudou a descrição do grupo\")[0].strip()\n",
    "    elif \"fixou uma mensagem\" in rest_of_line:\n",
    "        action_type = \"message_pin\"\n",
    "        id = rest_of_line.split(\"fixou uma mensagem\")[0].strip()\n",
    "    elif \"mudou as configurações\" in rest_of_line:\n",
    "        action_type = \"group_settings_change\"\n",
    "        id = rest_of_line.split(\"mudou as configurações do grupo\")[0].strip()\n",
    "    elif \"(arquivo anexado)\" in rest_of_line:\n",
    "        action_type = \"file_attach\"\n",
    "        id = rest_of_line.split(\"(arquivo anexado)\")[0].strip()\n",
    "    elif \"criou o grupo\" in rest_of_line:\n",
    "        action_type = \"group_create\"\n",
    "        id = rest_of_line.split(\"criou o grupo\")[0].strip()\n",
    "    elif \"foi adicionado(a)\" in rest_of_line:\n",
    "        action_type = \"add\"\n",
    "        id = rest_of_line.split(\"foi adicionado(a)\")[0].strip()\n",
    "    else:\n",
    "        print(\"Error line:\", rest_of_line)\n",
    "        assert False\n",
    "\n",
    "    add_mesage_to_df(\n",
    "        messages, current_date, current_time, id, None, \"action\", subtype=action_type\n",
    "    )\n",
    "\n",
    "\n",
    "def parse_whatsapp_history(file_path):\n",
    "    # Lista para armazenar as mensagens extraídas\n",
    "    messages = []\n",
    "\n",
    "    # Ler o arquivo de histórico\n",
    "    with open(file_path, \"r\", encoding=\"utf-8\") as file:\n",
    "        lines = file.readlines()\n",
    "\n",
    "    # Regex para identificar a data, hora e número do remetente\n",
    "    date_and_time_pattern = re.compile(r\"(\\d{2}/\\d{2}/\\d{4}) (\\d{2}:\\d{2}) - (.*)\")\n",
    "\n",
    "    # Variáveis para acumular mensagens\n",
    "    current_date = None\n",
    "    current_time = None\n",
    "    current_id = None\n",
    "    current_message = None\n",
    "\n",
    "    for line in lines:\n",
    "        # Verifica se a linha corresponde ao padrão de uma nova mensagem\n",
    "        match = date_and_time_pattern.match(line)\n",
    "        if match:\n",
    "            if current_message:\n",
    "                messages = add_mesage_to_df(\n",
    "                    messages, current_date, current_time, current_id, current_message\n",
    "                )\n",
    "            current_message = \"\"\n",
    "            current_date, current_time, rest_of_line = match.groups()\n",
    "            if \"‎\" in rest_of_line:\n",
    "                manage_action(\n",
    "                    messages, current_date, current_time, current_id, rest_of_line\n",
    "                )\n",
    "            else:\n",
    "                if \":\" in rest_of_line:\n",
    "                    current_id, message = rest_of_line.split(\":\", 1)\n",
    "                    current_message = message.strip()\n",
    "        else:\n",
    "            current_message += \"\\n\" + line.strip()\n",
    "\n",
    "    messages = add_mesage_to_df(\n",
    "        messages, current_date, current_time, current_id, current_message, \"message\"\n",
    "    )\n",
    "\n",
    "    df = pd.DataFrame(messages)\n",
    "\n",
    "    df[\"Order\"] = range(1, len(df) + 1)\n",
    "    \n",
    "    df[\"DateTime\"] = pd.to_datetime(df[\"Date\"].astype(str) + \" \" + df[\"Time\"].astype(str))\n",
    "\n",
    "    return df"
   ]
  },
  {
   "cell_type": "code",
   "execution_count": 4,
   "metadata": {},
   "outputs": [
    {
     "name": "stderr",
     "output_type": "stream",
     "text": [
      "/tmp/ipykernel_291670/1342128291.py:101: UserWarning: Parsing dates in %d/%m/%Y %H:%M format when dayfirst=False (the default) was specified. Pass `dayfirst=True` or specify a format to silence this warning.\n",
      "  df[\"DateTime\"] = pd.to_datetime(df[\"Date\"].astype(str) + \" \" + df[\"Time\"].astype(str))\n"
     ]
    },
    {
     "data": {
      "text/html": [
       "<div>\n",
       "<style scoped>\n",
       "    .dataframe tbody tr th:only-of-type {\n",
       "        vertical-align: middle;\n",
       "    }\n",
       "\n",
       "    .dataframe tbody tr th {\n",
       "        vertical-align: top;\n",
       "    }\n",
       "\n",
       "    .dataframe thead th {\n",
       "        text-align: right;\n",
       "    }\n",
       "</style>\n",
       "<table border=\"1\" class=\"dataframe\">\n",
       "  <thead>\n",
       "    <tr style=\"text-align: right;\">\n",
       "      <th></th>\n",
       "      <th>Date</th>\n",
       "      <th>Time</th>\n",
       "      <th>Id</th>\n",
       "      <th>Message</th>\n",
       "      <th>Type</th>\n",
       "      <th>Action_type</th>\n",
       "      <th>Order</th>\n",
       "      <th>DateTime</th>\n",
       "    </tr>\n",
       "  </thead>\n",
       "  <tbody>\n",
       "    <tr>\n",
       "      <th>0</th>\n",
       "      <td>19/08/2024</td>\n",
       "      <td>19:53</td>\n",
       "      <td>‎~ Felipe Soares</td>\n",
       "      <td>None</td>\n",
       "      <td>action</td>\n",
       "      <td>group_create</td>\n",
       "      <td>1</td>\n",
       "      <td>2024-08-19 19:53:00</td>\n",
       "    </tr>\n",
       "    <tr>\n",
       "      <th>4</th>\n",
       "      <td>19/08/2024</td>\n",
       "      <td>20:32</td>\n",
       "      <td>‎+55 61 9217-6339</td>\n",
       "      <td>None</td>\n",
       "      <td>action</td>\n",
       "      <td>entry</td>\n",
       "      <td>5</td>\n",
       "      <td>2024-08-19 20:32:00</td>\n",
       "    </tr>\n",
       "    <tr>\n",
       "      <th>6</th>\n",
       "      <td>19/08/2024</td>\n",
       "      <td>20:33</td>\n",
       "      <td>‎+55 11 98910-2316</td>\n",
       "      <td>None</td>\n",
       "      <td>action</td>\n",
       "      <td>entry</td>\n",
       "      <td>7</td>\n",
       "      <td>2024-08-19 20:33:00</td>\n",
       "    </tr>\n",
       "    <tr>\n",
       "      <th>30</th>\n",
       "      <td>19/08/2024</td>\n",
       "      <td>20:39</td>\n",
       "      <td>‎+55 11 98760-9956</td>\n",
       "      <td>None</td>\n",
       "      <td>action</td>\n",
       "      <td>entry</td>\n",
       "      <td>31</td>\n",
       "      <td>2024-08-19 20:39:00</td>\n",
       "    </tr>\n",
       "    <tr>\n",
       "      <th>65</th>\n",
       "      <td>19/08/2024</td>\n",
       "      <td>20:44</td>\n",
       "      <td>‎+55 13 97406-4831</td>\n",
       "      <td>None</td>\n",
       "      <td>action</td>\n",
       "      <td>entry</td>\n",
       "      <td>66</td>\n",
       "      <td>2024-08-19 20:44:00</td>\n",
       "    </tr>\n",
       "  </tbody>\n",
       "</table>\n",
       "</div>"
      ],
      "text/plain": [
       "          Date   Time                  Id Message    Type   Action_type  \\\n",
       "0   19/08/2024  19:53    ‎~ Felipe Soares    None  action  group_create   \n",
       "4   19/08/2024  20:32   ‎+55 61 9217-6339    None  action         entry   \n",
       "6   19/08/2024  20:33  ‎+55 11 98910-2316    None  action         entry   \n",
       "30  19/08/2024  20:39  ‎+55 11 98760-9956    None  action         entry   \n",
       "65  19/08/2024  20:44  ‎+55 13 97406-4831    None  action         entry   \n",
       "\n",
       "    Order            DateTime  \n",
       "0       1 2024-08-19 19:53:00  \n",
       "4       5 2024-08-19 20:32:00  \n",
       "6       7 2024-08-19 20:33:00  \n",
       "30     31 2024-08-19 20:39:00  \n",
       "65     66 2024-08-19 20:44:00  "
      ]
     },
     "execution_count": 4,
     "metadata": {},
     "output_type": "execute_result"
    }
   ],
   "source": [
    "# Exemplo de uso\n",
    "history = parse_whatsapp_history(FILE_PATH)\n",
    "history[history[\"Type\"] != \"message\"].head()"
   ]
  },
  {
   "cell_type": "code",
   "execution_count": 5,
   "metadata": {},
   "outputs": [
    {
     "name": "stdout",
     "output_type": "stream",
     "text": [
      "<class 'pandas.core.frame.DataFrame'>\n",
      "RangeIndex: 2626 entries, 0 to 2625\n",
      "Data columns (total 8 columns):\n",
      " #   Column       Non-Null Count  Dtype         \n",
      "---  ------       --------------  -----         \n",
      " 0   Date         2626 non-null   object        \n",
      " 1   Time         2626 non-null   object        \n",
      " 2   Id           2626 non-null   object        \n",
      " 3   Message      2540 non-null   object        \n",
      " 4   Type         2626 non-null   object        \n",
      " 5   Action_type  86 non-null     object        \n",
      " 6   Order        2626 non-null   int64         \n",
      " 7   DateTime     2626 non-null   datetime64[ns]\n",
      "dtypes: datetime64[ns](1), int64(1), object(6)\n",
      "memory usage: 164.3+ KB\n"
     ]
    }
   ],
   "source": [
    "history.info()"
   ]
  },
  {
   "cell_type": "code",
   "execution_count": 6,
   "metadata": {},
   "outputs": [
    {
     "name": "stdout",
     "output_type": "stream",
     "text": [
      "Min DateTime: 2024-08-19 19:53:00\n",
      "Max DateTime: 2024-08-24 01:26:00\n"
     ]
    }
   ],
   "source": [
    "print(\"Min DateTime:\", history[\"DateTime\"].min())\n",
    "print(\"Max DateTime:\", history[\"DateTime\"].max())"
   ]
  },
  {
   "cell_type": "code",
   "execution_count": 7,
   "metadata": {},
   "outputs": [
    {
     "name": "stdout",
     "output_type": "stream",
     "text": [
      "2024-08-23 00:00:00 2024-08-24 00:00:00\n",
      "397\n"
     ]
    },
    {
     "data": {
      "text/html": [
       "<div>\n",
       "<style scoped>\n",
       "    .dataframe tbody tr th:only-of-type {\n",
       "        vertical-align: middle;\n",
       "    }\n",
       "\n",
       "    .dataframe tbody tr th {\n",
       "        vertical-align: top;\n",
       "    }\n",
       "\n",
       "    .dataframe thead th {\n",
       "        text-align: right;\n",
       "    }\n",
       "</style>\n",
       "<table border=\"1\" class=\"dataframe\">\n",
       "  <thead>\n",
       "    <tr style=\"text-align: right;\">\n",
       "      <th></th>\n",
       "      <th>Date</th>\n",
       "      <th>Time</th>\n",
       "      <th>Id</th>\n",
       "      <th>Message</th>\n",
       "      <th>Type</th>\n",
       "      <th>Action_type</th>\n",
       "      <th>Order</th>\n",
       "      <th>DateTime</th>\n",
       "    </tr>\n",
       "  </thead>\n",
       "  <tbody>\n",
       "    <tr>\n",
       "      <th>2619</th>\n",
       "      <td>23/08/2024</td>\n",
       "      <td>23:26</td>\n",
       "      <td>+55 11 91319-9755</td>\n",
       "      <td>Hj tem show do cpm22 agora meia a noite e meia...</td>\n",
       "      <td>message</td>\n",
       "      <td>None</td>\n",
       "      <td>2620</td>\n",
       "      <td>2024-08-23 23:26:00</td>\n",
       "    </tr>\n",
       "    <tr>\n",
       "      <th>2620</th>\n",
       "      <td>23/08/2024</td>\n",
       "      <td>23:26</td>\n",
       "      <td>+55 11 91319-9755</td>\n",
       "      <td>Boaaa</td>\n",
       "      <td>message</td>\n",
       "      <td>None</td>\n",
       "      <td>2621</td>\n",
       "      <td>2024-08-23 23:26:00</td>\n",
       "    </tr>\n",
       "    <tr>\n",
       "      <th>2621</th>\n",
       "      <td>23/08/2024</td>\n",
       "      <td>23:27</td>\n",
       "      <td>+55 11 93800-6662</td>\n",
       "      <td>faltou ontem e hoje</td>\n",
       "      <td>message</td>\n",
       "      <td>None</td>\n",
       "      <td>2622</td>\n",
       "      <td>2024-08-23 23:27:00</td>\n",
       "    </tr>\n",
       "    <tr>\n",
       "      <th>2622</th>\n",
       "      <td>23/08/2024</td>\n",
       "      <td>23:27</td>\n",
       "      <td>+55 11 93800-6662</td>\n",
       "      <td>mas amanha faco isso</td>\n",
       "      <td>message</td>\n",
       "      <td>None</td>\n",
       "      <td>2623</td>\n",
       "      <td>2024-08-23 23:27:00</td>\n",
       "    </tr>\n",
       "    <tr>\n",
       "      <th>2623</th>\n",
       "      <td>23/08/2024</td>\n",
       "      <td>23:35</td>\n",
       "      <td>+55 21 99700-1902</td>\n",
       "      <td>Eai, grupo de auditoria de dados em I.A quem p...</td>\n",
       "      <td>message</td>\n",
       "      <td>None</td>\n",
       "      <td>2624</td>\n",
       "      <td>2024-08-23 23:35:00</td>\n",
       "    </tr>\n",
       "  </tbody>\n",
       "</table>\n",
       "</div>"
      ],
      "text/plain": [
       "            Date   Time                 Id  \\\n",
       "2619  23/08/2024  23:26  +55 11 91319-9755   \n",
       "2620  23/08/2024  23:26  +55 11 91319-9755   \n",
       "2621  23/08/2024  23:27  +55 11 93800-6662   \n",
       "2622  23/08/2024  23:27  +55 11 93800-6662   \n",
       "2623  23/08/2024  23:35  +55 21 99700-1902   \n",
       "\n",
       "                                                Message     Type Action_type  \\\n",
       "2619  Hj tem show do cpm22 agora meia a noite e meia...  message        None   \n",
       "2620                                              Boaaa  message        None   \n",
       "2621                                faltou ontem e hoje  message        None   \n",
       "2622                               mas amanha faco isso  message        None   \n",
       "2623  Eai, grupo de auditoria de dados em I.A quem p...  message        None   \n",
       "\n",
       "      Order            DateTime  \n",
       "2619   2620 2024-08-23 23:26:00  \n",
       "2620   2621 2024-08-23 23:26:00  \n",
       "2621   2622 2024-08-23 23:27:00  \n",
       "2622   2623 2024-08-23 23:27:00  \n",
       "2623   2624 2024-08-23 23:35:00  "
      ]
     },
     "execution_count": 7,
     "metadata": {},
     "output_type": "execute_result"
    }
   ],
   "source": [
    "from datetime import datetime, timedelta\n",
    "\n",
    "# Convert strings to datetime objects\n",
    "start_datetime = datetime.strptime(START_DATE, \"%Y-%m-%d\")\n",
    "end_datetime = datetime.strptime(END_DATE, \"%Y-%m-%d\") + timedelta(days=1)\n",
    "\n",
    "print(start_datetime, end_datetime)\n",
    "\n",
    "messages_df = history[\n",
    "    (history[\"Type\"] == \"message\")\n",
    "    & (history[\"DateTime\"] >= start_datetime)\n",
    "    & (history[\"DateTime\"] < end_datetime)\n",
    "]\n",
    "print(len(messages_df))\n",
    "messages_df.tail()"
   ]
  },
  {
   "cell_type": "code",
   "execution_count": 8,
   "metadata": {},
   "outputs": [
    {
     "name": "stdout",
     "output_type": "stream",
     "text": [
      "Min DateTime: 2024-08-23 04:50:00\n",
      "Max DateTime: 2024-08-23 23:35:00\n"
     ]
    }
   ],
   "source": [
    "print(\"Min DateTime:\", messages_df[\"DateTime\"].min())\n",
    "print(\"Max DateTime:\", messages_df[\"DateTime\"].max())"
   ]
  },
  {
   "cell_type": "code",
   "execution_count": 9,
   "metadata": {},
   "outputs": [
    {
     "data": {
      "text/plain": [
       "'os com vocês o material do Oracle University, que é referente a um conteúdo que foi apresentado no evento da FIAP FIRST WEEK.\\n\\nA inscrição tem que ser feita no link abaixo até o dia 26/08, às 23:59hs:\\n\\nhttps://forms.office.com/Pages/ResponsePage.aspx?id=4r_bEbiJSUW-EM7DZOWVUWZGfs6N_9xPqyfrKgxZ-wNUMDVQU1pYVEVPQkVIQlEzMFFMVDJRTUFORy4u\\n\\nQuem é responsável pelo suporte é o professor Antonio Sergio Rodrigues Figueiredo (profantonio.figueiredo@fiap.com.br).\\n\\nObrigado. 1TIAOR-2024 ATENÇÃO: PARA ABRIR O LINK É PRECISO ESTAR LOGADO COM O RM DA FIAP. Bom dia pessoal!\\n\\nEntrei ontem no grupo, sou aluno da modalidade ON Ja estão formando os grupos para as atividades? Alguns já formaram a maioria não Essa reunião seria com qual intuito? Já tem alguns grupos formados, mas a maior parte da turma está se reunindo através desse forms, https://forms.gle/FgrU5R4fd71tC3Vg9 Com todos preenchendo o forms, será montado grupos diversos de acordo com a capacidade de cada um nos temas das primeiras atividades Qu'"
      ]
     },
     "execution_count": 9,
     "metadata": {},
     "output_type": "execute_result"
    }
   ],
   "source": [
    "from pprint import pprint\n",
    "\n",
    "# Full chat string\n",
    "# Every new message starts with a new line followed by NM:\n",
    "full_chat_str = \" \".join(messages_df[\"Message\"].values)\n",
    "\n",
    "full_chat_str[1000:2000]"
   ]
  },
  {
   "cell_type": "code",
   "execution_count": 10,
   "metadata": {},
   "outputs": [
    {
     "name": "stdout",
     "output_type": "stream",
     "text": [
      "('Por favor, resuma o seguinte bate-papo de grupo do WhatsApp com base nos '\n",
      " 'tópicos discutidos. Para cada tópico, inclua seu título e um resumo em '\n",
      " 'tópicos. Os tópicos devem incluir informações detalhadas. Se o tópico '\n",
      " 'incluir recomendações sobre empresas ou serviços específicos, por favor, '\n",
      " 'inclua-as no resumo. Inclua também os links que foram compartilhados.')\n"
     ]
    }
   ],
   "source": [
    "from pprint import pprint\n",
    "\n",
    "# prompts from: https://github.com/omer-go/group_chat_summarizer\n",
    "# Many thanks!\n",
    "\n",
    "SUMMARY_PROMPT = f\"\"\"Por favor, resuma o seguinte bate-papo de grupo do WhatsApp com base nos tópicos discutidos. Para cada tópico, inclua seu título e um resumo em tópicos. Os tópicos devem incluir informações detalhadas. Se o tópico incluir recomendações sobre empresas ou serviços específicos, por favor, inclua-as no resumo. Inclua também os links que foram compartilhados.\"\"\"\n",
    "NEWSLETTER_PROMPT = f\"\"\"Por favor, forneça um parágrafo para abrir uma newsletter cobrindo os seguintes tópicos:\"\"\"\n",
    "\n",
    "pprint(SUMMARY_PROMPT)"
   ]
  },
  {
   "cell_type": "code",
   "execution_count": 11,
   "metadata": {},
   "outputs": [],
   "source": [
    "def print_model(model):\n",
    "    print(\"Uging model: \")\n",
    "    print(model.dict())\n",
    "    print('\\n\\n')"
   ]
  },
  {
   "cell_type": "code",
   "execution_count": 12,
   "metadata": {},
   "outputs": [
    {
     "name": "stdout",
     "output_type": "stream",
     "text": [
      "Uging model: \n",
      "{'model_name': 'gpt-4o-mini', 'model': 'gpt-4o-mini', 'stream': False, 'n': 1, 'temperature': 0.7, '_type': 'openai-chat'}\n",
      "\n",
      "\n",
      "\n"
     ]
    }
   ],
   "source": [
    "import langchain\n",
    "from langchain_openai import ChatOpenAI\n",
    "from langchain_core.prompts import PromptTemplate\n",
    "from langchain_core.output_parsers import JsonOutputParser\n",
    "\n",
    "# llm = ChatOpenAI(model=\"gpt-4o\")\n",
    "llm = ChatOpenAI(model=\"gpt-4o-mini\")\n",
    "print_model(llm)\n",
    "\n",
    "code_prompt = PromptTemplate(\n",
    "    template=\"{instruction}\\nAs mensagens: ```\\{messages}```\",\n",
    "    input_variables=[\"instruction\", \"messages\"],\n",
    ")\n",
    "\n",
    "code_chain = code_prompt | llm\n",
    "\n",
    "langchain.debug = True\n"
   ]
  },
  {
   "cell_type": "code",
   "execution_count": 13,
   "metadata": {},
   "outputs": [
    {
     "name": "stdout",
     "output_type": "stream",
     "text": [
      "\u001b[32;1m\u001b[1;3m[chain/start]\u001b[0m \u001b[1m[chain:RunnableSequence] Entering Chain run with input:\n",
      "\u001b[0m{\n",
      "  \"instruction\": \"Por favor, resuma o seguinte bate-papo de grupo do WhatsApp com base nos tópicos discutidos. Para cada tópico, inclua seu título e um resumo em tópicos. Os tópicos devem incluir informações detalhadas. Se o tópico incluir recomendações sobre empresas ou serviços específicos, por favor, inclua-as no resumo. Inclua também os links que foram compartilhados.\",\n",
      "  \"messages\": \"Mais um Goiano por aqui? Eu abri o app da fiap e tirei a foto do celular com a carteirinha =) Consegui tbm eu não consegui porque tinha os dados do cadastro incompleto, depois eu tento denovo <Mídia oculta> <Mídia oculta> <Mídia oculta> <Mídia oculta> Opa, não sabia que tinha desconto pra notion também Agora gostei Já uso a anos, uma das melhores ferramentas para se rebelar em equipe. Pessoal quem não preencheu esse forms, preenche por favor; https://forms.gle/FgrU5R4fd71tC3Vg9 tem 52 resposta somente Exatamente! Nasci em MG, mas moro em Goiânia/GO quem já tem grupo formado so me fala no privado que ai tiro o nome do grupo todo, tendo em vista que se todos tiver de acordo são no total 20 grupos de 5 pessoas. dai a ideia era colocar quem sabe o intermediario de Python e avançado como lider do grupo sabe. só para separarmos rapido. O que acham? Preenchido,  tô meio por fora,  mas preenchi lá 😅 ORACLE UNIVERSITY\\nINSCREVA-SE ATÉ O DIA 26/08, ÀS 23:59HS\\nOlá, turma 1TIAOR-2024.\\n\\nCompartilhamos com vocês o material do Oracle University, que é referente a um conteúdo que foi apresentado no evento da FIAP FIRST WEEK.\\n\\nA inscrição tem que ser feita no link abaixo até o dia 26/08, às 23:59hs:\\n\\nhttps://forms.office.com/Pages/ResponsePage.aspx?id=4r_bEbiJSUW-EM7DZOWVUWZGfs6N_9xPqyfrKgxZ-wNUMDVQU1pYVEVPQkVIQlEzMFFMVDJRTUFORy4u\\n\\nQuem é responsável pelo suporte é o professor Antonio Sergio Rodrigues Figueiredo (profantonio.figueiredo@fiap.com.br).\\n\\nObrigado. 1TIAOR-2024 ATENÇÃO: PARA ABRIR O LINK É PRECISO ESTAR LOGADO COM O RM DA FIAP. Bom dia pessoal!\\n\\nEntrei ontem no grupo, sou aluno da modalidade ON Ja estão formando os grupos para as atividades? Alguns já formaram a maioria não Essa reunião seria com qual intuito? Já tem alguns grupos formados, mas a maior parte da turma está se reunindo através desse forms, https://forms.gle/FgrU5R4fd71tC3Vg9 Com todos preenchendo o forms, será montado grupos diversos de acordo com a capacidade de cada um nos temas das primeiras atividades Qual nome da disciplina usou no cadastro? Estou buscando colegas para montar um grupo ou me juntar a algum existente. Feito!\\n\\nVim do curso de Web Design, fiz 1 semestre e mudei para IA Não cheguei a fazer ainda não, como estou com umas demandas do trabalho só repassei aqui mesmo Boa Foi da talk agora de manhã né Não consegui entrar as 9 Então se a gente conseguir definir isso nem precisamos, tudo depende do pessoal que preencher o forms q tinha passado <Mídia oculta> o que seria isso? github copilot, free como sou leigo, o que seria o github copilot? é a ia do github que ajuda em desenvolvimento entendi, muito obrigado 60 reais a menos, e é muito bom O meu não pediu declaração, será que eu fiz errado? 🥲 Não achei outro assuntos de interresse… vamos no dividir na reunião? É a ideia Acho que falta so confirmar o horário mesmo Tinha um questionário, mas acho que sumiu Do pin 📌 Estou assistindo a live de hoje de manhã, está muito boa Sim eu vi , agora é so ver se todo mundo ja votou mesmo mas pelo que vi seria as 20:00 da próxima segunda feira *APENAS REPASSANDO VAGAS*\\n\\n👉 Trainee Itaú: https://lnkd.in/dTexsixN\\n\\n👉 Trainee Ambev: https://lnkd.in/dWqeC3JM\\n\\n👉 Trainee Nestlé: https://lnkd.in/dF9d9EnY\\n\\n👉 Trainee Vale: https://lnkd.in/dvgPv_bz\\n\\n👉 Trainee Kraft Heinz: https://lnkd.in/drBrBB74\\n\\n👉 Trainee L'Oreal: https://lnkd.in/dc-UkaXe\\n\\n👉 Trainee Alpargatas (dona da Havaianas): https://lnkd.in/dcspV6hY\\n\\n👉 Trainee Rede D'Or: https://lnkd.in/d3S8Bnmn\\n\\n👉 Trainee Mastercard: https://lnkd.in/du5VQ3aC\\n\\n👉 Trainee São Martinho: https://lnkd.in/dXTg3iR9\\n\\n👉 Trainee Suzano: https://lnkd.in/dKdyjPhM\\n\\n👉 Trainee Yduqs: https://lnkd.in/dPWsVrvi\\n\\n👉 Trainee Saint-Gobain: https://lnkd.in/d_SE4FRG\\n\\n👉 Trainee Ensina Brasil: https://lnkd.in/dtfnYyyJ\\n\\n👉 Trainee EY: https://lnkd.in/dU7y5ASt\\n\\n👉 Trainee Obramax: https://lnkd.in/dpzTMD2Q Plano nacional de IA da SBC: https://books-sol.sbc.org.br/index.php/sbc/catalog/view/141/624/1052 <Mensagem editada> Também estou a procura, bora? Eu também pessoal Beleza. 👍 Estou montando um grupo aqui e precisamos de mais um participante.\\nEstamos em 2, e já temos conhecimento em programação, robótica e drones.\\nO ideal seria alguém com algum conhecimento pra incrementar, diversificar. Alguém interessado? Eu tenho interesse. Sou SRE e DEVOps, trabalho com várias clouds e infraestrutura e conhecimento em programação Tenho interesse Fechado então Perfeito.\\nVou lhe adicionar ao grupo e conversarmos sobre. Fechou ☺️ Estou disponível p formar grupo e contribuir, caso algum grupo ainda esteja precisando Vim da eng física e migrei pra inovação e agora estou trabalhando com análise de dados, processos e BI. Adoraria entrar no grupo se ainda tiver vaga ;) Gente, preciso de um grupo. Se tiver pessoas disponível para se juntar cmg. Não tenho requisito para pessoas,  o q não se sabe se aprende. Bora! Tbm estou sem grupo, me disponibilizo então temos um trio, faltam 2 é isso ? Simm 🙋🏽‍♀️ também estou sem grupo agora já tem srsr ai simm, falta mais uma pessoa Vou criar um hoje envio os dados aqui depois Tbm estou disponível para grupo se alguém se interessar podem me chamar no privado, muito obrigada 🥰 Também estou sem Eu e @553291304371 montamos um grupo caso alguém queira se integrar, é muito bem vindo(a) Oi Ana, não sou da área, mas sou dedicada e gosto de trabalhar em equipe, se não tiver problemas para vcs e quiser me incluir estou a disposição 🥰 Claro! @5511988357961\\nTemos mais 2 Ja fecharam o grupo? Pessoal aconteceu um emprevisto, não vou conseguir fazer a reunião segunda, vi que o pessoal está já separando os grupos e tals… se puderem seguir dessa forma; ou alguém pegar a frente! Perdao pelo transtorno; Adrielly, @5511963572722 ; @556199260479 Eu estou sem grupo. Ainda não sei, mas posso aprender Perfis linkedin dos palestrantes de hoje:\\n\\n\\nMatheus Bitencourt (IBM)\\nlinkedin.com/in/matbiit\\n\\nItamar Olímpio (Inovação Fiap)\\nhttps://www.linkedin.com/in/itamarolimpio/?fromQR=1\\n\\n(Oracle)\\n\\nWagner Sanchez\\nhttps://br.linkedin.com/in/wagnersanchezphd\\nRafael Ronqui\\nhttps://br.linkedin.com/in/rafael-martins-ronqui-a6115772\\nAntonio Figueiredo\\nhttps://www.linkedin.com/in/antoniosrfigueiredo/\\n\\n\\nJomar Silve (Nvidia)\\nhttps://www.linkedin.com/in/homembit/\\n\\n\\n\\nFabriane Florentino (oracle)\\nhttps://www.linkedin.com/in/fabrianeflorentino/\\n\\nVanessa Alves dos Santos (Equinix)\\nhttps://www.linkedin.com/in/vanessa-alves-dos-santos/ 4 Achei que os grupos seriam formados a partir do forms Já foram, não? Eu que não consigo acompanhar aqui Sério? Foi a ideia inicial, na verdade, mas com o decorrer de todas as conversas por aqui, se mostrou mais prático já formar os grupos diretamente, do que esperar dias para isso. Na minha visão, ao menos, quanto mais esperarmos, mais difícil será. Eu preenchi, mas não vi que estou em um grupo Galera, estou procurando mais um integrantes para o time. Sou analista de dados sênior em uma empresa agro que cria soluções digitais e tenho experiência em hackathons. No time, temos um DBA com background em empreendimentos e um Product Manager para ajudar na gestão de projetos. Alguém afim de se juntar pra diversificar? Seria ótimo ter um dev ou alguém com uma experiência de programação. Alguém disponível já que não vai rolar mais o forms? <Mensagem editada> @5511970178989 ; @5511974146266 Nesse momento, pelo que foi informado ali em cima, não haverá mais a reunião na segunda-feira para essa organização de grupos, a menos que alguém tome a dianteira e passe a organizar. Otimo! Vou criar um grupo p nos 🙂 Eu e a @558294183737 estamos formando um grupo.\\n\\nJá atuo como desenv e estamos procurando quem queira aprender com a gente! Tô sem grupo\\nQuem me quer? 😝\\n0 programação\\n0 agro\\n🫠 Bora? Fechou 💪🏽 Eu quero Sou dev back end a 4 anos\\nHoje trabalho no PicPay na maior parte do tempo trabalho com java mas ja atuei com python e R ... durante a graduação\\nJa tive contato com gerenciamento de clusters, Ia generativa e algoritmos evolutivos 😅\\nEu estava esperando o forms mas se tiver vaga ainda Bora ??? Bora ??? Bora? Pessoal, aqui só tá eu e @5511948086098 , quem quiser entrar com a gente, sejam bem vindos 🙌🏻 Oi Fernando, falei com a Ana estou com vcs tbm, se não tiver problema Acho q falta 2 Problema nenhum Tati,\\n\\nPosso entrar com vocês?\\n\\nSou diretor de software de dados e formando em Banco de dados. Pode sim 🥰 Tb estou sem grupo ! Chamando você Quem quiser um parceiro faca na caveira. Pouco conhecimento de programação, mas conheço de migração de dados, infraestrutura e startups ! 🫶 <Mensagem editada> Eita oq rolou ? Desistiram do forms? Eu, @5511948086098 @553291304371 @5511984742996 Tenho em automação low code Temos um grupo e precisamos de 1x pessoa. Não se preocupem se não estão na área, se não conhecem de agro, de TI, de Sql, de Fiat Marea nem nada!!!\\n\\nSe alguém tiver interesse, podem me procurar! Adicionaremos o primeiro que chegar 😘 Cabe ai ?? Hahahahahaha pergunta complicada de responder! Kkkkk Bora … Se já não preencheu Bora! Te chamei Lá ele, preencheu aí @5511970773200 Ahahhshs o grupo sim! <Mídia oculta> Não sabia q não ia mais rolar  a reunião segunda-feira.\\nEstou sem grupo, pessoal.\\nO programação\\n0 agro Eu tb Tb Já que a questão é o time, fazemos a reunião hj 🤷🏻‍♀️\\n\\nO ponto é que agora a planilha pode ter pessoas com grupo 🥺 mas aí seria retirar os nomes de quem a esta em grupo N vai mais ter a reunião? Tbm n sabia Até achar todos agr kkk ENQUETE:\\nVocê já tem grupo?\\nOPÇÃO: Sim (‎26 votos)\\nOPÇÃO: Não (‎19 votos)\\n Pronto <Mídia oculta> Limpamos a planilha pelos celulares e mantemos a reunião segunda às 20h‼️ sim kkkkk Pessoal, eu acabei perdendo a vez em outro grupo. Estou sem grupo e disponível. Vou mencionar nosso grupo que já está completo para desconsiderarem na planilha:\\n\\n- eu\\n- @5511930568112\\n- @5511996710909\\n- @34639263260\\n- @558294183737 mas como tem grupos já se formando, corre risco de termos grupos com baixa experiência, por isso não seria melhor definirmos isso o quanto antes Isso q ia falar.agora Podemos fazer hj Nosso grupo já está completo, então favor desconsiderar da planilha.\\n\\n- Eu\\n- @559699079041\\n- @556291393764\\n- @5519982100900\\n- @5515981154900 Antes ou depois da aula, sem problemas <Mídia oculta> Nosso grupo está equilibrado. Tomei o cuidado para equilibrar deixando 1x dev ( eu ) para que vocês possam equilibrar os demais grupos concordo plenamente Iolanda tranquilo… quem falta a gente se ajuda, se for o caso! Pessoal, estou em um grupo eu e a @5511985950997 , precisamos de 3 pessoas. 1 precisa ter um experiencia com DEV, se possivel. Alguem se habilita? Mensagem apagada Uma coisa importante pra se lembrar, é:\\nEssa divisão de equipes de trabalho, NÃO é uma separação desse GRUPO de WhatsApp.\\nEu mesmo já criei uma equipe e vi outras pessoas criando as próprias, mas é importante se manter presente neste grupo para a colaboração de todos. Então assim como pode ocorrer da nossa equipe necessitar de ajuda e solicitar aqui, encorajo a quem precisar de ajuda, tiver dúvidas, informar aqui, para que nós mesmos ou outras pessoas, possam ajudar. quem tem o link do excel? Depois que preenchemos o form, ficamos no limbo. fixa ele na descrição pessoal :) Mensagem apagada Pessoal, acho que os grupos não deveriam segrega o conhecimento.\\nPodemos nos ajudar independente de grupo. O que precisarem aí contem comigo O link está no discord, Grupo Classe - Planejamento, segue: https://docs.google.com/spreadsheets/d/1Z6FK-69PI5kYySScJReSNiDXfeoy6p3bN_SMZndt-mQ/edit?resourcekey=&gid=344293194#gid=344293194 Vou te chamar Boa tarde galera blz 😁\\nVi que o pessoal desistiu do forms e estão ja montando os grupos, caso alguém tenha vaga ou queira montar um grupo estou disponível.\\n\\nNão tenho experiência mas tenho muita vontade e foco para aprender..se alguém que nao tem experiência quiser fazer grupo garanto que vamos aprender nem que seja na marra 🤣 Boa tarde pessoal, ainda não tenho equipe também.\\nNão tenho experiência. Sou eletromecânico e estou focado em aprender e me desenvolver nesse nova área. Gostaria de entrar em algum grupo também o meu receio é de que vamos juntar 5 pessoas sem experiencia nenhuma em muitos grupos.....e na hora da duvida vai estar todo mundo ocupado com o seu proprio trabalho Pior...a gelera esta se junta a maioria com quem ja tem experiência Que nao tem fica desalocado ou acaba fazendo sozinho sim Pode vir comigo e o Murilo A gente da um jeito bora então] é isso AI literalmente Já fizeram um grupo no WhatsApp! ? quer que crie um? pra nos 3 ? Sim melhor Galera ja estamos em grupo\\n\\nEu\\n@5511938006662\\n@5511975735383\\n@554896863723\\n\\nTemos mais uma vaga Posso entrar? Pode sim Blz ja te adiciono e so aceitar o convite e entrar@pedro gente, acrescenteri duas abas na planilha do agronegocio tem todos os links sugeridos no whats organizados e os telefones do professores Show!!!! @admin na hora que o agro acabar a gente nao pode deletar essas abas se tiverem alguma atualização ja coloquem lá, por favor <Mídia oculta> <Mídia oculta> eu acho mais facil de achar Também estou procurando grupo. Mas não ficou marcada a reunião para segunda para discutir isso? Acho que a galera desistiu do forms que seria a reunião e começou a se juntar por aqui mesmo Não vai ter mais reunião então? Caramba Acho que nao meu mano Eu também montei com o pessoal agr de ultima hora Que m… em todo o caso… algum grupo aí? Estou precisando montar o meu tb Foi em 30 segundos qual q foi a treta pra cancelar reunião? ideia era boa Não estou sabendo… passei o dia todo em reunião hj Também n sei Acho que mesmo que a reunião não seja para definir grupo, seria legal ter alguma para o pessoal se conhecer Mas acho q muita gente ainda n tem grupo devem responder mais tarde Apesar que são 105, então seria meio caótico rs Sim,e mo galera se juntou só com quem tem algum tipo de experiência, entao provavelmente ta bem desbalanceado..que nao tem experiência ta a deriva 🆘 <Mídia oculta> Fala galera. Estou sem grupo, se tiver espaço em algum. Tô livre 😊.\\nZero exp dev\\nZero exp agro https://meetu.ps/e/NqYm9/gKc4C/i que horas ser a live hoje e alguem pode me mandar o link pfvr Boa noite pessoas,  espero que estejam bem esse site meetup é muito massa pra participar de eventos de tecnología, da pra conhecer pessoas e se ver o que ta rolando no mercado de trabalho https://www.fiap.com.br/graduacao/fiap-first-week/ Ah esse aqui é um meet up da fiap Alguem sabe o tema da live de hj? 🤘🏻 Tá nesse link Tema e os convidados Cara, a Live de hoje acho que vai ser bem importante, por que vamos ter a introdução daquele link dos cursos de cloud que mandaram aqui. <Mensagem editada> Sem contar que tem gente da IBM. Quando eu fazia engenharia eles davam aula em cada palestra que acontecia Vale muito a pena Putss nao vou poder participar Sera q fica gravada? Aí não . sei Qual o link? Tem ai alguem? Só clicar aqui, e depois ir na data de hoje que abre a live https://meetu.ps/e/NqYm9/gKc4C/i precisa se cadastrar na plataforma <Mídia oculta> o ollama dá para testar no seu próprio computador\\nhttps://ollama.com/ Muito bom Booa!! onde que clica mesmo para a iniciação cientifica? <Mídia oculta> <Mídia oculta> Link para 1 mes gratis Watson i.a:  https://www.ibm.com/products/watsonx-aihttps://www.ibm.com/products/watsonx-ai\\n\\nhttps://skillsbuild.org/pt-br (Cursos de i.a) Achei q fosse da própria fiap alguém tem o link do grupo do whatsApp fácil por ai? =) <Mídia oculta> Esses Skillsbuild são da IBM. https://chat.whatsapp.com/D2AmV079eaE8EnJfIDU6nF Toma essa surra de informação da Vanessa! rs A mulher tá voando!! É muita informação excelente viu Se buscar isso no Google ia levar muito tempo pra juntar toda essa informação e talvez nem ia achar tudo Eles tão  mandando muito bem chamando essa galera pra palestrar Quero esse material... Está tendo live hoje? No site não aparece pra mim nao era de 7 as 8? achei que tivesse perdido horário e to vendo a de ntem Trabalhamos com margem de erro de uma ou duas horas kkkkkkkkk ontem ah sim meu gap era de no máximo 5 min Eu aprendi ontem as calls dessa semana estão no site first week, não estão no calendário oficial senão me ferrava https://www.fiap.com.br/graduacao/fiap-first-week/ Alguém conseguiu o linkedin da Vanessa? muito massa a talk https://www.linkedin.com/in/vanessa-alves-dos-santos/ Fácil de achar :D Podíamos nos adicionar tb né? Depois vemos hehe, vou deixar meu aqui Sim https://www.linkedin.com/in/caiorcastro/ Põe no excel Centralizar os dados Tá cheio de cyberataque de MaaS e RaaS Ah boa! Eu não consigo acompanhar todo o grupo durante o dia (trampo) :/\\nUma ideia seria os links importantes a gente sempre deixar na descrição do grupo, o que acham? Vou atualizando lá conteúdo aos poucos Tem o Discord !! Vc ja tem o link ? Galera, não sei qual vai ser utilidade real desse email rmXXXX@fiap.com.br que recebemos, maaas segue aqui como redirecionar os emails da caixa do outlook para seu principal\\n\\nhttps://support.microsoft.com/pt-br/topic/ativar-o-reencaminhamento-autom%C3%A1tico-no-outlook-7f2670a1-7fff-4475-8a3c-5822d63b0c8e#PickTab=Web o office 365 vai todo junto com teams  e o que os professores postam acho q so vai servir pra contato com o corpo docente.... o resto é interessante A Oracle tá dando uma baita oportunidade A real utilidade eu também não sei, mas esse e-mail pode ser usado para participar dos programas estudantis, como o do github e da jetbrains isso é bom tb Alguém conseguiu printar o Qr Code? <Mídia oculta> Boa galera.. Vou precisar desses qr codes <Mídia oculta> Gente eu n consegui participar da aula, alguem consegue me resumir oq seria isso? Alguém consegue me.passar o link do form? Tô sem cel https://forms.office.com/pages/responsepage.aspx?id=4r_bEbiJSUW-EM7DZOWVUWZGfs6N_9xPqyfrKgxZ-wNUMDVQU1pYVEVPQkVIQlEzMFFMVDJRTUFORy4u&origin=QRCode&route=shorturl É o link pra você aplicar pra uma das 5 principais formações da Oracle de forma gratuita Muito obrigado, vou correr aqui! Ja quero Caso não saibam muito bem o que faz cada área, é só jogar no ChatGPT que ele explica direitinho Obrigado boa noite pessoal, tá difícil acompanhar todas as mensagens aqui. mas as vezes vou aparecer por aqui...\\n\\nvi que estão falando um pouco da história de cada um, por isso segue meu perfil:\\n\\nSou um líder de engenharia de software com mais de 13 anos de experiência em desenvolver soluções inovadoras e escaláveis para diversos setores. Atualmente, lidero a equipe de engenharia de software na F1RST, uma empresa de tecnologia do grupo Santander. Já trabalhei no Nubank e na Accenture também. (alguns aqui já me adicionaram no LinkedIn, mas segue novamente meu perfil) https://www.linkedin.com/in/gustavo-segantini-rossignolli e aqui vai uma contribuição para os iniciantes\\n\\nhttps://www.dio.me/bootcamp/engenharia-dados-python os Bootcamp dio é bao, direto libera uns legais Seguindo o exemplo do Gustavo vou me apresentar e já me colocar como disponível pra apoiar a galera onde for possível. Da mesma forma, não consigo acompanhar o chat, mas vou acompanhando conforme der!\\n\\nMeu nome é Rodrigo Mastropietro e já trabalhei como Dev e Arquiteto Java, fui CTO de Startup e hoje sou gestor na SAP Brasil para a área de Customer Experience. Tenho uns 15 anos de experiência e estou à disposição pra apoiar onde eu puder.\\n\\nNão estou em nenhum grupo ainda e, caso tenham vaga me avisem pra podermos trocar uma ideia.\\n\\nDeixo meu Linkedin pra contato:\\nhttps://www.linkedin.com/in/rmastropietro/ Estou sem também e sei nada de dev. Blz Tiago. Montamos então e já vemos quem mais tá sem grupo pra por com a gente. Essa primeira semana estive fora de terça até hoje a trabalho não deu nem tempo de ver todas as lives.  Certeza que tem mais gente na mesma situação. Eu também acabei ficando sem grupo. Tenho conhecimento básico em python e já trabalhei com agronegócio Combinado, Valeeu. o grupo que eu estou, a gente montou de bate pronto o tempo ta correndo...rs Eu estou sem grupo também, tenho conhecimento intermediário em programação Faz parte. Trabalhar e estudar é complicado. entra com o pessoal ai Entra com nós Você também ✌🏻 Bora!! Vamos nessa! Boa pessoal. Estamos então no grupo (confirmem por favor e ai ja organizamos a melhor forma de nos falarmos):\\n\\nEu\\nTiago Bastos\\nIago Cotta\\nGustavo Rossignolli Fechou? Fechou Tem espaço pra mais um Sim. Se tiver mais alguém, convidamos e já entra com a gente. Pode ser eu? Opa Pode sim já foram mais rápido e me colocaram num grupo aqui... 🙃 Captamos o Gustavo hahaha Tranquilo. Hahahaha https://www.veed.io/ <Mídia oculta> <Mídia oculta> Favoritando pra salvar so perdi o link da musica <Mídia oculta> <Mídia oculta> @5511938006662 coloca no discord é muita ficção cientifica que não é mais Gente, eu adorei ~sem puxar saco~ cada uma desse first week mas a de encerramento foi no mínimo *inspiradora* hoje foi de bugar Anotei horrores kkkkk já fui pra narnia...rs com um robô em tamanho real kkkkkk To indo pra um show agora mas nao tenho nem cabeça pra isso kkkk to pensando só nas aplicações e olha que eu trabalho já com isso (na vdd minha funçao é essa) kkkk Eita, só consegui assistir o início 😔 Não consegui ver a live hj, sera q gravaram?? eu nao consigo parar de pensar rs To na mesma Pelo visto foi otima perdi tempo demais fazendo o que fazia Eu gravei boa parte (agora a noite ja tava na rua aí nao gravei o final) eu posso compartilhar tava no mundo errado Pse as primeiras lives tem, essa não sei Nossa pfvv Se puder me enviar Nao sei se eles deixam né Vou perguntar ta? Me envia tbm se puder Td bemm Ta gostando do mundo da tecnologia? do que a chatice de antes???? nao tenha dúvida to felizona Eu comecei a amar tbm mas é tanta coisa que parece q vc nunca sabe o bastante Q otimoo Amanhã mando um resumo da primeira semana com sei la uns 30 pontos por dia, pontos de açao e aprendizados e se deixarem eu solto os videos Quem daqui do grupo É da FIAP e me deixa mandar? Se liberarem, manda pra nós por favor. Consegui ver metade só <Mídia oculta> <Mídia oculta> Amanha eu subo as outras aulas 😃 é a teoria do conhecimento de Platão..... qto maior é o seu conhecimento maior é a sua ignorância...rs faz todo sentido Muito bom! 👏🏻👏🏻👏🏻👏🏻 Pessoal, a formação de grupos via questionário ainda está de pé? Caso não, eu estou sem grupo. Sou analista de marketing digital com formação em direito Se tiverem grupos disponíveis estou a disposição ✌🏻 <Mídia oculta> Podem usar tb ❤️ Quer ajuda? Quero! To usando o ai studio com gemini, mas trava quando bate 2mm tokens, to pensando em cortar as aulas nao sei… Chegae na sala de estudos Do Discord Aliás, pessoal, quem estiver por aí, chega na sala de estudos pra gente trocar uma ideia Manda mas a sala do discord que entrei nao da pra mandar mensagens (mas pode ser eu que nao uso muito o discord tb rntao nem sei) Tem a sala de estudos de voz/vídeo, chega lá Kd link Precisamos deixar um repositorio dos links na descriçao deste grupo….. descrição do grupo hj devo ficar por lá a madruga toda https://discord.gg/R59Cr2RE Eu entrei mas nao consigo mandar mensagens no link da descriçao atualizei o link Maravilha :D Eu perdi varios links, planilhas, foruns que rolaram nesse grupo aqui no horario comercial, tao todos la? Tinha pensado em amanha de manhã extrair essa conversa e pedir a exportaçao de links do que rolou nessa semana E o resumo da conversa e pontos altos Mas deixa esse problema pro Caio de amanhã resolver Kkkkkk eu juntei tudo em duas abas no form do desafio agro da uma olhada lá Hj tem show do cpm22 agora meia a noite e meia, se alguem for colar me avisa kk ❤️ Boaaa faltou ontem e hoje mas amanha faco isso Eai, grupo de auditoria de dados em I.A quem pula? Vamos salvar os Dados dos clientes\"\n",
      "}\n",
      "\u001b[32;1m\u001b[1;3m[chain/start]\u001b[0m \u001b[1m[chain:RunnableSequence > prompt:PromptTemplate] Entering Prompt run with input:\n",
      "\u001b[0m{\n",
      "  \"instruction\": \"Por favor, resuma o seguinte bate-papo de grupo do WhatsApp com base nos tópicos discutidos. Para cada tópico, inclua seu título e um resumo em tópicos. Os tópicos devem incluir informações detalhadas. Se o tópico incluir recomendações sobre empresas ou serviços específicos, por favor, inclua-as no resumo. Inclua também os links que foram compartilhados.\",\n",
      "  \"messages\": \"Mais um Goiano por aqui? Eu abri o app da fiap e tirei a foto do celular com a carteirinha =) Consegui tbm eu não consegui porque tinha os dados do cadastro incompleto, depois eu tento denovo <Mídia oculta> <Mídia oculta> <Mídia oculta> <Mídia oculta> Opa, não sabia que tinha desconto pra notion também Agora gostei Já uso a anos, uma das melhores ferramentas para se rebelar em equipe. Pessoal quem não preencheu esse forms, preenche por favor; https://forms.gle/FgrU5R4fd71tC3Vg9 tem 52 resposta somente Exatamente! Nasci em MG, mas moro em Goiânia/GO quem já tem grupo formado so me fala no privado que ai tiro o nome do grupo todo, tendo em vista que se todos tiver de acordo são no total 20 grupos de 5 pessoas. dai a ideia era colocar quem sabe o intermediario de Python e avançado como lider do grupo sabe. só para separarmos rapido. O que acham? Preenchido,  tô meio por fora,  mas preenchi lá 😅 ORACLE UNIVERSITY\\nINSCREVA-SE ATÉ O DIA 26/08, ÀS 23:59HS\\nOlá, turma 1TIAOR-2024.\\n\\nCompartilhamos com vocês o material do Oracle University, que é referente a um conteúdo que foi apresentado no evento da FIAP FIRST WEEK.\\n\\nA inscrição tem que ser feita no link abaixo até o dia 26/08, às 23:59hs:\\n\\nhttps://forms.office.com/Pages/ResponsePage.aspx?id=4r_bEbiJSUW-EM7DZOWVUWZGfs6N_9xPqyfrKgxZ-wNUMDVQU1pYVEVPQkVIQlEzMFFMVDJRTUFORy4u\\n\\nQuem é responsável pelo suporte é o professor Antonio Sergio Rodrigues Figueiredo (profantonio.figueiredo@fiap.com.br).\\n\\nObrigado. 1TIAOR-2024 ATENÇÃO: PARA ABRIR O LINK É PRECISO ESTAR LOGADO COM O RM DA FIAP. Bom dia pessoal!\\n\\nEntrei ontem no grupo, sou aluno da modalidade ON Ja estão formando os grupos para as atividades? Alguns já formaram a maioria não Essa reunião seria com qual intuito? Já tem alguns grupos formados, mas a maior parte da turma está se reunindo através desse forms, https://forms.gle/FgrU5R4fd71tC3Vg9 Com todos preenchendo o forms, será montado grupos diversos de acordo com a capacidade de cada um nos temas das primeiras atividades Qual nome da disciplina usou no cadastro? Estou buscando colegas para montar um grupo ou me juntar a algum existente. Feito!\\n\\nVim do curso de Web Design, fiz 1 semestre e mudei para IA Não cheguei a fazer ainda não, como estou com umas demandas do trabalho só repassei aqui mesmo Boa Foi da talk agora de manhã né Não consegui entrar as 9 Então se a gente conseguir definir isso nem precisamos, tudo depende do pessoal que preencher o forms q tinha passado <Mídia oculta> o que seria isso? github copilot, free como sou leigo, o que seria o github copilot? é a ia do github que ajuda em desenvolvimento entendi, muito obrigado 60 reais a menos, e é muito bom O meu não pediu declaração, será que eu fiz errado? 🥲 Não achei outro assuntos de interresse… vamos no dividir na reunião? É a ideia Acho que falta so confirmar o horário mesmo Tinha um questionário, mas acho que sumiu Do pin 📌 Estou assistindo a live de hoje de manhã, está muito boa Sim eu vi , agora é so ver se todo mundo ja votou mesmo mas pelo que vi seria as 20:00 da próxima segunda feira *APENAS REPASSANDO VAGAS*\\n\\n👉 Trainee Itaú: https://lnkd.in/dTexsixN\\n\\n👉 Trainee Ambev: https://lnkd.in/dWqeC3JM\\n\\n👉 Trainee Nestlé: https://lnkd.in/dF9d9EnY\\n\\n👉 Trainee Vale: https://lnkd.in/dvgPv_bz\\n\\n👉 Trainee Kraft Heinz: https://lnkd.in/drBrBB74\\n\\n👉 Trainee L'Oreal: https://lnkd.in/dc-UkaXe\\n\\n👉 Trainee Alpargatas (dona da Havaianas): https://lnkd.in/dcspV6hY\\n\\n👉 Trainee Rede D'Or: https://lnkd.in/d3S8Bnmn\\n\\n👉 Trainee Mastercard: https://lnkd.in/du5VQ3aC\\n\\n👉 Trainee São Martinho: https://lnkd.in/dXTg3iR9\\n\\n👉 Trainee Suzano: https://lnkd.in/dKdyjPhM\\n\\n👉 Trainee Yduqs: https://lnkd.in/dPWsVrvi\\n\\n👉 Trainee Saint-Gobain: https://lnkd.in/d_SE4FRG\\n\\n👉 Trainee Ensina Brasil: https://lnkd.in/dtfnYyyJ\\n\\n👉 Trainee EY: https://lnkd.in/dU7y5ASt\\n\\n👉 Trainee Obramax: https://lnkd.in/dpzTMD2Q Plano nacional de IA da SBC: https://books-sol.sbc.org.br/index.php/sbc/catalog/view/141/624/1052 <Mensagem editada> Também estou a procura, bora? Eu também pessoal Beleza. 👍 Estou montando um grupo aqui e precisamos de mais um participante.\\nEstamos em 2, e já temos conhecimento em programação, robótica e drones.\\nO ideal seria alguém com algum conhecimento pra incrementar, diversificar. Alguém interessado? Eu tenho interesse. Sou SRE e DEVOps, trabalho com várias clouds e infraestrutura e conhecimento em programação Tenho interesse Fechado então Perfeito.\\nVou lhe adicionar ao grupo e conversarmos sobre. Fechou ☺️ Estou disponível p formar grupo e contribuir, caso algum grupo ainda esteja precisando Vim da eng física e migrei pra inovação e agora estou trabalhando com análise de dados, processos e BI. Adoraria entrar no grupo se ainda tiver vaga ;) Gente, preciso de um grupo. Se tiver pessoas disponível para se juntar cmg. Não tenho requisito para pessoas,  o q não se sabe se aprende. Bora! Tbm estou sem grupo, me disponibilizo então temos um trio, faltam 2 é isso ? Simm 🙋🏽‍♀️ também estou sem grupo agora já tem srsr ai simm, falta mais uma pessoa Vou criar um hoje envio os dados aqui depois Tbm estou disponível para grupo se alguém se interessar podem me chamar no privado, muito obrigada 🥰 Também estou sem Eu e @553291304371 montamos um grupo caso alguém queira se integrar, é muito bem vindo(a) Oi Ana, não sou da área, mas sou dedicada e gosto de trabalhar em equipe, se não tiver problemas para vcs e quiser me incluir estou a disposição 🥰 Claro! @5511988357961\\nTemos mais 2 Ja fecharam o grupo? Pessoal aconteceu um emprevisto, não vou conseguir fazer a reunião segunda, vi que o pessoal está já separando os grupos e tals… se puderem seguir dessa forma; ou alguém pegar a frente! Perdao pelo transtorno; Adrielly, @5511963572722 ; @556199260479 Eu estou sem grupo. Ainda não sei, mas posso aprender Perfis linkedin dos palestrantes de hoje:\\n\\n\\nMatheus Bitencourt (IBM)\\nlinkedin.com/in/matbiit\\n\\nItamar Olímpio (Inovação Fiap)\\nhttps://www.linkedin.com/in/itamarolimpio/?fromQR=1\\n\\n(Oracle)\\n\\nWagner Sanchez\\nhttps://br.linkedin.com/in/wagnersanchezphd\\nRafael Ronqui\\nhttps://br.linkedin.com/in/rafael-martins-ronqui-a6115772\\nAntonio Figueiredo\\nhttps://www.linkedin.com/in/antoniosrfigueiredo/\\n\\n\\nJomar Silve (Nvidia)\\nhttps://www.linkedin.com/in/homembit/\\n\\n\\n\\nFabriane Florentino (oracle)\\nhttps://www.linkedin.com/in/fabrianeflorentino/\\n\\nVanessa Alves dos Santos (Equinix)\\nhttps://www.linkedin.com/in/vanessa-alves-dos-santos/ 4 Achei que os grupos seriam formados a partir do forms Já foram, não? Eu que não consigo acompanhar aqui Sério? Foi a ideia inicial, na verdade, mas com o decorrer de todas as conversas por aqui, se mostrou mais prático já formar os grupos diretamente, do que esperar dias para isso. Na minha visão, ao menos, quanto mais esperarmos, mais difícil será. Eu preenchi, mas não vi que estou em um grupo Galera, estou procurando mais um integrantes para o time. Sou analista de dados sênior em uma empresa agro que cria soluções digitais e tenho experiência em hackathons. No time, temos um DBA com background em empreendimentos e um Product Manager para ajudar na gestão de projetos. Alguém afim de se juntar pra diversificar? Seria ótimo ter um dev ou alguém com uma experiência de programação. Alguém disponível já que não vai rolar mais o forms? <Mensagem editada> @5511970178989 ; @5511974146266 Nesse momento, pelo que foi informado ali em cima, não haverá mais a reunião na segunda-feira para essa organização de grupos, a menos que alguém tome a dianteira e passe a organizar. Otimo! Vou criar um grupo p nos 🙂 Eu e a @558294183737 estamos formando um grupo.\\n\\nJá atuo como desenv e estamos procurando quem queira aprender com a gente! Tô sem grupo\\nQuem me quer? 😝\\n0 programação\\n0 agro\\n🫠 Bora? Fechou 💪🏽 Eu quero Sou dev back end a 4 anos\\nHoje trabalho no PicPay na maior parte do tempo trabalho com java mas ja atuei com python e R ... durante a graduação\\nJa tive contato com gerenciamento de clusters, Ia generativa e algoritmos evolutivos 😅\\nEu estava esperando o forms mas se tiver vaga ainda Bora ??? Bora ??? Bora? Pessoal, aqui só tá eu e @5511948086098 , quem quiser entrar com a gente, sejam bem vindos 🙌🏻 Oi Fernando, falei com a Ana estou com vcs tbm, se não tiver problema Acho q falta 2 Problema nenhum Tati,\\n\\nPosso entrar com vocês?\\n\\nSou diretor de software de dados e formando em Banco de dados. Pode sim 🥰 Tb estou sem grupo ! Chamando você Quem quiser um parceiro faca na caveira. Pouco conhecimento de programação, mas conheço de migração de dados, infraestrutura e startups ! 🫶 <Mensagem editada> Eita oq rolou ? Desistiram do forms? Eu, @5511948086098 @553291304371 @5511984742996 Tenho em automação low code Temos um grupo e precisamos de 1x pessoa. Não se preocupem se não estão na área, se não conhecem de agro, de TI, de Sql, de Fiat Marea nem nada!!!\\n\\nSe alguém tiver interesse, podem me procurar! Adicionaremos o primeiro que chegar 😘 Cabe ai ?? Hahahahahaha pergunta complicada de responder! Kkkkk Bora … Se já não preencheu Bora! Te chamei Lá ele, preencheu aí @5511970773200 Ahahhshs o grupo sim! <Mídia oculta> Não sabia q não ia mais rolar  a reunião segunda-feira.\\nEstou sem grupo, pessoal.\\nO programação\\n0 agro Eu tb Tb Já que a questão é o time, fazemos a reunião hj 🤷🏻‍♀️\\n\\nO ponto é que agora a planilha pode ter pessoas com grupo 🥺 mas aí seria retirar os nomes de quem a esta em grupo N vai mais ter a reunião? Tbm n sabia Até achar todos agr kkk ENQUETE:\\nVocê já tem grupo?\\nOPÇÃO: Sim (‎26 votos)\\nOPÇÃO: Não (‎19 votos)\\n Pronto <Mídia oculta> Limpamos a planilha pelos celulares e mantemos a reunião segunda às 20h‼️ sim kkkkk Pessoal, eu acabei perdendo a vez em outro grupo. Estou sem grupo e disponível. Vou mencionar nosso grupo que já está completo para desconsiderarem na planilha:\\n\\n- eu\\n- @5511930568112\\n- @5511996710909\\n- @34639263260\\n- @558294183737 mas como tem grupos já se formando, corre risco de termos grupos com baixa experiência, por isso não seria melhor definirmos isso o quanto antes Isso q ia falar.agora Podemos fazer hj Nosso grupo já está completo, então favor desconsiderar da planilha.\\n\\n- Eu\\n- @559699079041\\n- @556291393764\\n- @5519982100900\\n- @5515981154900 Antes ou depois da aula, sem problemas <Mídia oculta> Nosso grupo está equilibrado. Tomei o cuidado para equilibrar deixando 1x dev ( eu ) para que vocês possam equilibrar os demais grupos concordo plenamente Iolanda tranquilo… quem falta a gente se ajuda, se for o caso! Pessoal, estou em um grupo eu e a @5511985950997 , precisamos de 3 pessoas. 1 precisa ter um experiencia com DEV, se possivel. Alguem se habilita? Mensagem apagada Uma coisa importante pra se lembrar, é:\\nEssa divisão de equipes de trabalho, NÃO é uma separação desse GRUPO de WhatsApp.\\nEu mesmo já criei uma equipe e vi outras pessoas criando as próprias, mas é importante se manter presente neste grupo para a colaboração de todos. Então assim como pode ocorrer da nossa equipe necessitar de ajuda e solicitar aqui, encorajo a quem precisar de ajuda, tiver dúvidas, informar aqui, para que nós mesmos ou outras pessoas, possam ajudar. quem tem o link do excel? Depois que preenchemos o form, ficamos no limbo. fixa ele na descrição pessoal :) Mensagem apagada Pessoal, acho que os grupos não deveriam segrega o conhecimento.\\nPodemos nos ajudar independente de grupo. O que precisarem aí contem comigo O link está no discord, Grupo Classe - Planejamento, segue: https://docs.google.com/spreadsheets/d/1Z6FK-69PI5kYySScJReSNiDXfeoy6p3bN_SMZndt-mQ/edit?resourcekey=&gid=344293194#gid=344293194 Vou te chamar Boa tarde galera blz 😁\\nVi que o pessoal desistiu do forms e estão ja montando os grupos, caso alguém tenha vaga ou queira montar um grupo estou disponível.\\n\\nNão tenho experiência mas tenho muita vontade e foco para aprender..se alguém que nao tem experiência quiser fazer grupo garanto que vamos aprender nem que seja na marra 🤣 Boa tarde pessoal, ainda não tenho equipe também.\\nNão tenho experiência. Sou eletromecânico e estou focado em aprender e me desenvolver nesse nova área. Gostaria de entrar em algum grupo também o meu receio é de que vamos juntar 5 pessoas sem experiencia nenhuma em muitos grupos.....e na hora da duvida vai estar todo mundo ocupado com o seu proprio trabalho Pior...a gelera esta se junta a maioria com quem ja tem experiência Que nao tem fica desalocado ou acaba fazendo sozinho sim Pode vir comigo e o Murilo A gente da um jeito bora então] é isso AI literalmente Já fizeram um grupo no WhatsApp! ? quer que crie um? pra nos 3 ? Sim melhor Galera ja estamos em grupo\\n\\nEu\\n@5511938006662\\n@5511975735383\\n@554896863723\\n\\nTemos mais uma vaga Posso entrar? Pode sim Blz ja te adiciono e so aceitar o convite e entrar@pedro gente, acrescenteri duas abas na planilha do agronegocio tem todos os links sugeridos no whats organizados e os telefones do professores Show!!!! @admin na hora que o agro acabar a gente nao pode deletar essas abas se tiverem alguma atualização ja coloquem lá, por favor <Mídia oculta> <Mídia oculta> eu acho mais facil de achar Também estou procurando grupo. Mas não ficou marcada a reunião para segunda para discutir isso? Acho que a galera desistiu do forms que seria a reunião e começou a se juntar por aqui mesmo Não vai ter mais reunião então? Caramba Acho que nao meu mano Eu também montei com o pessoal agr de ultima hora Que m… em todo o caso… algum grupo aí? Estou precisando montar o meu tb Foi em 30 segundos qual q foi a treta pra cancelar reunião? ideia era boa Não estou sabendo… passei o dia todo em reunião hj Também n sei Acho que mesmo que a reunião não seja para definir grupo, seria legal ter alguma para o pessoal se conhecer Mas acho q muita gente ainda n tem grupo devem responder mais tarde Apesar que são 105, então seria meio caótico rs Sim,e mo galera se juntou só com quem tem algum tipo de experiência, entao provavelmente ta bem desbalanceado..que nao tem experiência ta a deriva 🆘 <Mídia oculta> Fala galera. Estou sem grupo, se tiver espaço em algum. Tô livre 😊.\\nZero exp dev\\nZero exp agro https://meetu.ps/e/NqYm9/gKc4C/i que horas ser a live hoje e alguem pode me mandar o link pfvr Boa noite pessoas,  espero que estejam bem esse site meetup é muito massa pra participar de eventos de tecnología, da pra conhecer pessoas e se ver o que ta rolando no mercado de trabalho https://www.fiap.com.br/graduacao/fiap-first-week/ Ah esse aqui é um meet up da fiap Alguem sabe o tema da live de hj? 🤘🏻 Tá nesse link Tema e os convidados Cara, a Live de hoje acho que vai ser bem importante, por que vamos ter a introdução daquele link dos cursos de cloud que mandaram aqui. <Mensagem editada> Sem contar que tem gente da IBM. Quando eu fazia engenharia eles davam aula em cada palestra que acontecia Vale muito a pena Putss nao vou poder participar Sera q fica gravada? Aí não . sei Qual o link? Tem ai alguem? Só clicar aqui, e depois ir na data de hoje que abre a live https://meetu.ps/e/NqYm9/gKc4C/i precisa se cadastrar na plataforma <Mídia oculta> o ollama dá para testar no seu próprio computador\\nhttps://ollama.com/ Muito bom Booa!! onde que clica mesmo para a iniciação cientifica? <Mídia oculta> <Mídia oculta> Link para 1 mes gratis Watson i.a:  https://www.ibm.com/products/watsonx-aihttps://www.ibm.com/products/watsonx-ai\\n\\nhttps://skillsbuild.org/pt-br (Cursos de i.a) Achei q fosse da própria fiap alguém tem o link do grupo do whatsApp fácil por ai? =) <Mídia oculta> Esses Skillsbuild são da IBM. https://chat.whatsapp.com/D2AmV079eaE8EnJfIDU6nF Toma essa surra de informação da Vanessa! rs A mulher tá voando!! É muita informação excelente viu Se buscar isso no Google ia levar muito tempo pra juntar toda essa informação e talvez nem ia achar tudo Eles tão  mandando muito bem chamando essa galera pra palestrar Quero esse material... Está tendo live hoje? No site não aparece pra mim nao era de 7 as 8? achei que tivesse perdido horário e to vendo a de ntem Trabalhamos com margem de erro de uma ou duas horas kkkkkkkkk ontem ah sim meu gap era de no máximo 5 min Eu aprendi ontem as calls dessa semana estão no site first week, não estão no calendário oficial senão me ferrava https://www.fiap.com.br/graduacao/fiap-first-week/ Alguém conseguiu o linkedin da Vanessa? muito massa a talk https://www.linkedin.com/in/vanessa-alves-dos-santos/ Fácil de achar :D Podíamos nos adicionar tb né? Depois vemos hehe, vou deixar meu aqui Sim https://www.linkedin.com/in/caiorcastro/ Põe no excel Centralizar os dados Tá cheio de cyberataque de MaaS e RaaS Ah boa! Eu não consigo acompanhar todo o grupo durante o dia (trampo) :/\\nUma ideia seria os links importantes a gente sempre deixar na descrição do grupo, o que acham? Vou atualizando lá conteúdo aos poucos Tem o Discord !! Vc ja tem o link ? Galera, não sei qual vai ser utilidade real desse email rmXXXX@fiap.com.br que recebemos, maaas segue aqui como redirecionar os emails da caixa do outlook para seu principal\\n\\nhttps://support.microsoft.com/pt-br/topic/ativar-o-reencaminhamento-autom%C3%A1tico-no-outlook-7f2670a1-7fff-4475-8a3c-5822d63b0c8e#PickTab=Web o office 365 vai todo junto com teams  e o que os professores postam acho q so vai servir pra contato com o corpo docente.... o resto é interessante A Oracle tá dando uma baita oportunidade A real utilidade eu também não sei, mas esse e-mail pode ser usado para participar dos programas estudantis, como o do github e da jetbrains isso é bom tb Alguém conseguiu printar o Qr Code? <Mídia oculta> Boa galera.. Vou precisar desses qr codes <Mídia oculta> Gente eu n consegui participar da aula, alguem consegue me resumir oq seria isso? Alguém consegue me.passar o link do form? Tô sem cel https://forms.office.com/pages/responsepage.aspx?id=4r_bEbiJSUW-EM7DZOWVUWZGfs6N_9xPqyfrKgxZ-wNUMDVQU1pYVEVPQkVIQlEzMFFMVDJRTUFORy4u&origin=QRCode&route=shorturl É o link pra você aplicar pra uma das 5 principais formações da Oracle de forma gratuita Muito obrigado, vou correr aqui! Ja quero Caso não saibam muito bem o que faz cada área, é só jogar no ChatGPT que ele explica direitinho Obrigado boa noite pessoal, tá difícil acompanhar todas as mensagens aqui. mas as vezes vou aparecer por aqui...\\n\\nvi que estão falando um pouco da história de cada um, por isso segue meu perfil:\\n\\nSou um líder de engenharia de software com mais de 13 anos de experiência em desenvolver soluções inovadoras e escaláveis para diversos setores. Atualmente, lidero a equipe de engenharia de software na F1RST, uma empresa de tecnologia do grupo Santander. Já trabalhei no Nubank e na Accenture também. (alguns aqui já me adicionaram no LinkedIn, mas segue novamente meu perfil) https://www.linkedin.com/in/gustavo-segantini-rossignolli e aqui vai uma contribuição para os iniciantes\\n\\nhttps://www.dio.me/bootcamp/engenharia-dados-python os Bootcamp dio é bao, direto libera uns legais Seguindo o exemplo do Gustavo vou me apresentar e já me colocar como disponível pra apoiar a galera onde for possível. Da mesma forma, não consigo acompanhar o chat, mas vou acompanhando conforme der!\\n\\nMeu nome é Rodrigo Mastropietro e já trabalhei como Dev e Arquiteto Java, fui CTO de Startup e hoje sou gestor na SAP Brasil para a área de Customer Experience. Tenho uns 15 anos de experiência e estou à disposição pra apoiar onde eu puder.\\n\\nNão estou em nenhum grupo ainda e, caso tenham vaga me avisem pra podermos trocar uma ideia.\\n\\nDeixo meu Linkedin pra contato:\\nhttps://www.linkedin.com/in/rmastropietro/ Estou sem também e sei nada de dev. Blz Tiago. Montamos então e já vemos quem mais tá sem grupo pra por com a gente. Essa primeira semana estive fora de terça até hoje a trabalho não deu nem tempo de ver todas as lives.  Certeza que tem mais gente na mesma situação. Eu também acabei ficando sem grupo. Tenho conhecimento básico em python e já trabalhei com agronegócio Combinado, Valeeu. o grupo que eu estou, a gente montou de bate pronto o tempo ta correndo...rs Eu estou sem grupo também, tenho conhecimento intermediário em programação Faz parte. Trabalhar e estudar é complicado. entra com o pessoal ai Entra com nós Você também ✌🏻 Bora!! Vamos nessa! Boa pessoal. Estamos então no grupo (confirmem por favor e ai ja organizamos a melhor forma de nos falarmos):\\n\\nEu\\nTiago Bastos\\nIago Cotta\\nGustavo Rossignolli Fechou? Fechou Tem espaço pra mais um Sim. Se tiver mais alguém, convidamos e já entra com a gente. Pode ser eu? Opa Pode sim já foram mais rápido e me colocaram num grupo aqui... 🙃 Captamos o Gustavo hahaha Tranquilo. Hahahaha https://www.veed.io/ <Mídia oculta> <Mídia oculta> Favoritando pra salvar so perdi o link da musica <Mídia oculta> <Mídia oculta> @5511938006662 coloca no discord é muita ficção cientifica que não é mais Gente, eu adorei ~sem puxar saco~ cada uma desse first week mas a de encerramento foi no mínimo *inspiradora* hoje foi de bugar Anotei horrores kkkkk já fui pra narnia...rs com um robô em tamanho real kkkkkk To indo pra um show agora mas nao tenho nem cabeça pra isso kkkk to pensando só nas aplicações e olha que eu trabalho já com isso (na vdd minha funçao é essa) kkkk Eita, só consegui assistir o início 😔 Não consegui ver a live hj, sera q gravaram?? eu nao consigo parar de pensar rs To na mesma Pelo visto foi otima perdi tempo demais fazendo o que fazia Eu gravei boa parte (agora a noite ja tava na rua aí nao gravei o final) eu posso compartilhar tava no mundo errado Pse as primeiras lives tem, essa não sei Nossa pfvv Se puder me enviar Nao sei se eles deixam né Vou perguntar ta? Me envia tbm se puder Td bemm Ta gostando do mundo da tecnologia? do que a chatice de antes???? nao tenha dúvida to felizona Eu comecei a amar tbm mas é tanta coisa que parece q vc nunca sabe o bastante Q otimoo Amanhã mando um resumo da primeira semana com sei la uns 30 pontos por dia, pontos de açao e aprendizados e se deixarem eu solto os videos Quem daqui do grupo É da FIAP e me deixa mandar? Se liberarem, manda pra nós por favor. Consegui ver metade só <Mídia oculta> <Mídia oculta> Amanha eu subo as outras aulas 😃 é a teoria do conhecimento de Platão..... qto maior é o seu conhecimento maior é a sua ignorância...rs faz todo sentido Muito bom! 👏🏻👏🏻👏🏻👏🏻 Pessoal, a formação de grupos via questionário ainda está de pé? Caso não, eu estou sem grupo. Sou analista de marketing digital com formação em direito Se tiverem grupos disponíveis estou a disposição ✌🏻 <Mídia oculta> Podem usar tb ❤️ Quer ajuda? Quero! To usando o ai studio com gemini, mas trava quando bate 2mm tokens, to pensando em cortar as aulas nao sei… Chegae na sala de estudos Do Discord Aliás, pessoal, quem estiver por aí, chega na sala de estudos pra gente trocar uma ideia Manda mas a sala do discord que entrei nao da pra mandar mensagens (mas pode ser eu que nao uso muito o discord tb rntao nem sei) Tem a sala de estudos de voz/vídeo, chega lá Kd link Precisamos deixar um repositorio dos links na descriçao deste grupo….. descrição do grupo hj devo ficar por lá a madruga toda https://discord.gg/R59Cr2RE Eu entrei mas nao consigo mandar mensagens no link da descriçao atualizei o link Maravilha :D Eu perdi varios links, planilhas, foruns que rolaram nesse grupo aqui no horario comercial, tao todos la? Tinha pensado em amanha de manhã extrair essa conversa e pedir a exportaçao de links do que rolou nessa semana E o resumo da conversa e pontos altos Mas deixa esse problema pro Caio de amanhã resolver Kkkkkk eu juntei tudo em duas abas no form do desafio agro da uma olhada lá Hj tem show do cpm22 agora meia a noite e meia, se alguem for colar me avisa kk ❤️ Boaaa faltou ontem e hoje mas amanha faco isso Eai, grupo de auditoria de dados em I.A quem pula? Vamos salvar os Dados dos clientes\"\n",
      "}\n",
      "\u001b[36;1m\u001b[1;3m[chain/end]\u001b[0m \u001b[1m[chain:RunnableSequence > prompt:PromptTemplate] [0ms] Exiting Prompt run with output:\n",
      "\u001b[0m[outputs]\n",
      "\u001b[32;1m\u001b[1;3m[llm/start]\u001b[0m \u001b[1m[chain:RunnableSequence > llm:ChatOpenAI] Entering LLM run with input:\n",
      "\u001b[0m{\n",
      "  \"prompts\": [\n",
      "    \"Human: Por favor, resuma o seguinte bate-papo de grupo do WhatsApp com base nos tópicos discutidos. Para cada tópico, inclua seu título e um resumo em tópicos. Os tópicos devem incluir informações detalhadas. Se o tópico incluir recomendações sobre empresas ou serviços específicos, por favor, inclua-as no resumo. Inclua também os links que foram compartilhados.\\nAs mensagens: ```\\\\Mais um Goiano por aqui? Eu abri o app da fiap e tirei a foto do celular com a carteirinha =) Consegui tbm eu não consegui porque tinha os dados do cadastro incompleto, depois eu tento denovo <Mídia oculta> <Mídia oculta> <Mídia oculta> <Mídia oculta> Opa, não sabia que tinha desconto pra notion também Agora gostei Já uso a anos, uma das melhores ferramentas para se rebelar em equipe. Pessoal quem não preencheu esse forms, preenche por favor; https://forms.gle/FgrU5R4fd71tC3Vg9 tem 52 resposta somente Exatamente! Nasci em MG, mas moro em Goiânia/GO quem já tem grupo formado so me fala no privado que ai tiro o nome do grupo todo, tendo em vista que se todos tiver de acordo são no total 20 grupos de 5 pessoas. dai a ideia era colocar quem sabe o intermediario de Python e avançado como lider do grupo sabe. só para separarmos rapido. O que acham? Preenchido,  tô meio por fora,  mas preenchi lá 😅 ORACLE UNIVERSITY\\nINSCREVA-SE ATÉ O DIA 26/08, ÀS 23:59HS\\nOlá, turma 1TIAOR-2024.\\n\\nCompartilhamos com vocês o material do Oracle University, que é referente a um conteúdo que foi apresentado no evento da FIAP FIRST WEEK.\\n\\nA inscrição tem que ser feita no link abaixo até o dia 26/08, às 23:59hs:\\n\\nhttps://forms.office.com/Pages/ResponsePage.aspx?id=4r_bEbiJSUW-EM7DZOWVUWZGfs6N_9xPqyfrKgxZ-wNUMDVQU1pYVEVPQkVIQlEzMFFMVDJRTUFORy4u\\n\\nQuem é responsável pelo suporte é o professor Antonio Sergio Rodrigues Figueiredo (profantonio.figueiredo@fiap.com.br).\\n\\nObrigado. 1TIAOR-2024 ATENÇÃO: PARA ABRIR O LINK É PRECISO ESTAR LOGADO COM O RM DA FIAP. Bom dia pessoal!\\n\\nEntrei ontem no grupo, sou aluno da modalidade ON Ja estão formando os grupos para as atividades? Alguns já formaram a maioria não Essa reunião seria com qual intuito? Já tem alguns grupos formados, mas a maior parte da turma está se reunindo através desse forms, https://forms.gle/FgrU5R4fd71tC3Vg9 Com todos preenchendo o forms, será montado grupos diversos de acordo com a capacidade de cada um nos temas das primeiras atividades Qual nome da disciplina usou no cadastro? Estou buscando colegas para montar um grupo ou me juntar a algum existente. Feito!\\n\\nVim do curso de Web Design, fiz 1 semestre e mudei para IA Não cheguei a fazer ainda não, como estou com umas demandas do trabalho só repassei aqui mesmo Boa Foi da talk agora de manhã né Não consegui entrar as 9 Então se a gente conseguir definir isso nem precisamos, tudo depende do pessoal que preencher o forms q tinha passado <Mídia oculta> o que seria isso? github copilot, free como sou leigo, o que seria o github copilot? é a ia do github que ajuda em desenvolvimento entendi, muito obrigado 60 reais a menos, e é muito bom O meu não pediu declaração, será que eu fiz errado? 🥲 Não achei outro assuntos de interresse… vamos no dividir na reunião? É a ideia Acho que falta so confirmar o horário mesmo Tinha um questionário, mas acho que sumiu Do pin 📌 Estou assistindo a live de hoje de manhã, está muito boa Sim eu vi , agora é so ver se todo mundo ja votou mesmo mas pelo que vi seria as 20:00 da próxima segunda feira *APENAS REPASSANDO VAGAS*\\n\\n👉 Trainee Itaú: https://lnkd.in/dTexsixN\\n\\n👉 Trainee Ambev: https://lnkd.in/dWqeC3JM\\n\\n👉 Trainee Nestlé: https://lnkd.in/dF9d9EnY\\n\\n👉 Trainee Vale: https://lnkd.in/dvgPv_bz\\n\\n👉 Trainee Kraft Heinz: https://lnkd.in/drBrBB74\\n\\n👉 Trainee L'Oreal: https://lnkd.in/dc-UkaXe\\n\\n👉 Trainee Alpargatas (dona da Havaianas): https://lnkd.in/dcspV6hY\\n\\n👉 Trainee Rede D'Or: https://lnkd.in/d3S8Bnmn\\n\\n👉 Trainee Mastercard: https://lnkd.in/du5VQ3aC\\n\\n👉 Trainee São Martinho: https://lnkd.in/dXTg3iR9\\n\\n👉 Trainee Suzano: https://lnkd.in/dKdyjPhM\\n\\n👉 Trainee Yduqs: https://lnkd.in/dPWsVrvi\\n\\n👉 Trainee Saint-Gobain: https://lnkd.in/d_SE4FRG\\n\\n👉 Trainee Ensina Brasil: https://lnkd.in/dtfnYyyJ\\n\\n👉 Trainee EY: https://lnkd.in/dU7y5ASt\\n\\n👉 Trainee Obramax: https://lnkd.in/dpzTMD2Q Plano nacional de IA da SBC: https://books-sol.sbc.org.br/index.php/sbc/catalog/view/141/624/1052 <Mensagem editada> Também estou a procura, bora? Eu também pessoal Beleza. 👍 Estou montando um grupo aqui e precisamos de mais um participante.\\nEstamos em 2, e já temos conhecimento em programação, robótica e drones.\\nO ideal seria alguém com algum conhecimento pra incrementar, diversificar. Alguém interessado? Eu tenho interesse. Sou SRE e DEVOps, trabalho com várias clouds e infraestrutura e conhecimento em programação Tenho interesse Fechado então Perfeito.\\nVou lhe adicionar ao grupo e conversarmos sobre. Fechou ☺️ Estou disponível p formar grupo e contribuir, caso algum grupo ainda esteja precisando Vim da eng física e migrei pra inovação e agora estou trabalhando com análise de dados, processos e BI. Adoraria entrar no grupo se ainda tiver vaga ;) Gente, preciso de um grupo. Se tiver pessoas disponível para se juntar cmg. Não tenho requisito para pessoas,  o q não se sabe se aprende. Bora! Tbm estou sem grupo, me disponibilizo então temos um trio, faltam 2 é isso ? Simm 🙋🏽‍♀️ também estou sem grupo agora já tem srsr ai simm, falta mais uma pessoa Vou criar um hoje envio os dados aqui depois Tbm estou disponível para grupo se alguém se interessar podem me chamar no privado, muito obrigada 🥰 Também estou sem Eu e @553291304371 montamos um grupo caso alguém queira se integrar, é muito bem vindo(a) Oi Ana, não sou da área, mas sou dedicada e gosto de trabalhar em equipe, se não tiver problemas para vcs e quiser me incluir estou a disposição 🥰 Claro! @5511988357961\\nTemos mais 2 Ja fecharam o grupo? Pessoal aconteceu um emprevisto, não vou conseguir fazer a reunião segunda, vi que o pessoal está já separando os grupos e tals… se puderem seguir dessa forma; ou alguém pegar a frente! Perdao pelo transtorno; Adrielly, @5511963572722 ; @556199260479 Eu estou sem grupo. Ainda não sei, mas posso aprender Perfis linkedin dos palestrantes de hoje:\\n\\n\\nMatheus Bitencourt (IBM)\\nlinkedin.com/in/matbiit\\n\\nItamar Olímpio (Inovação Fiap)\\nhttps://www.linkedin.com/in/itamarolimpio/?fromQR=1\\n\\n(Oracle)\\n\\nWagner Sanchez\\nhttps://br.linkedin.com/in/wagnersanchezphd\\nRafael Ronqui\\nhttps://br.linkedin.com/in/rafael-martins-ronqui-a6115772\\nAntonio Figueiredo\\nhttps://www.linkedin.com/in/antoniosrfigueiredo/\\n\\n\\nJomar Silve (Nvidia)\\nhttps://www.linkedin.com/in/homembit/\\n\\n\\n\\nFabriane Florentino (oracle)\\nhttps://www.linkedin.com/in/fabrianeflorentino/\\n\\nVanessa Alves dos Santos (Equinix)\\nhttps://www.linkedin.com/in/vanessa-alves-dos-santos/ 4 Achei que os grupos seriam formados a partir do forms Já foram, não? Eu que não consigo acompanhar aqui Sério? Foi a ideia inicial, na verdade, mas com o decorrer de todas as conversas por aqui, se mostrou mais prático já formar os grupos diretamente, do que esperar dias para isso. Na minha visão, ao menos, quanto mais esperarmos, mais difícil será. Eu preenchi, mas não vi que estou em um grupo Galera, estou procurando mais um integrantes para o time. Sou analista de dados sênior em uma empresa agro que cria soluções digitais e tenho experiência em hackathons. No time, temos um DBA com background em empreendimentos e um Product Manager para ajudar na gestão de projetos. Alguém afim de se juntar pra diversificar? Seria ótimo ter um dev ou alguém com uma experiência de programação. Alguém disponível já que não vai rolar mais o forms? <Mensagem editada> @5511970178989 ; @5511974146266 Nesse momento, pelo que foi informado ali em cima, não haverá mais a reunião na segunda-feira para essa organização de grupos, a menos que alguém tome a dianteira e passe a organizar. Otimo! Vou criar um grupo p nos 🙂 Eu e a @558294183737 estamos formando um grupo.\\n\\nJá atuo como desenv e estamos procurando quem queira aprender com a gente! Tô sem grupo\\nQuem me quer? 😝\\n0 programação\\n0 agro\\n🫠 Bora? Fechou 💪🏽 Eu quero Sou dev back end a 4 anos\\nHoje trabalho no PicPay na maior parte do tempo trabalho com java mas ja atuei com python e R ... durante a graduação\\nJa tive contato com gerenciamento de clusters, Ia generativa e algoritmos evolutivos 😅\\nEu estava esperando o forms mas se tiver vaga ainda Bora ??? Bora ??? Bora? Pessoal, aqui só tá eu e @5511948086098 , quem quiser entrar com a gente, sejam bem vindos 🙌🏻 Oi Fernando, falei com a Ana estou com vcs tbm, se não tiver problema Acho q falta 2 Problema nenhum Tati,\\n\\nPosso entrar com vocês?\\n\\nSou diretor de software de dados e formando em Banco de dados. Pode sim 🥰 Tb estou sem grupo ! Chamando você Quem quiser um parceiro faca na caveira. Pouco conhecimento de programação, mas conheço de migração de dados, infraestrutura e startups ! 🫶 <Mensagem editada> Eita oq rolou ? Desistiram do forms? Eu, @5511948086098 @553291304371 @5511984742996 Tenho em automação low code Temos um grupo e precisamos de 1x pessoa. Não se preocupem se não estão na área, se não conhecem de agro, de TI, de Sql, de Fiat Marea nem nada!!!\\n\\nSe alguém tiver interesse, podem me procurar! Adicionaremos o primeiro que chegar 😘 Cabe ai ?? Hahahahahaha pergunta complicada de responder! Kkkkk Bora … Se já não preencheu Bora! Te chamei Lá ele, preencheu aí @5511970773200 Ahahhshs o grupo sim! <Mídia oculta> Não sabia q não ia mais rolar  a reunião segunda-feira.\\nEstou sem grupo, pessoal.\\nO programação\\n0 agro Eu tb Tb Já que a questão é o time, fazemos a reunião hj 🤷🏻‍♀️\\n\\nO ponto é que agora a planilha pode ter pessoas com grupo 🥺 mas aí seria retirar os nomes de quem a esta em grupo N vai mais ter a reunião? Tbm n sabia Até achar todos agr kkk ENQUETE:\\nVocê já tem grupo?\\nOPÇÃO: Sim (‎26 votos)\\nOPÇÃO: Não (‎19 votos)\\n Pronto <Mídia oculta> Limpamos a planilha pelos celulares e mantemos a reunião segunda às 20h‼️ sim kkkkk Pessoal, eu acabei perdendo a vez em outro grupo. Estou sem grupo e disponível. Vou mencionar nosso grupo que já está completo para desconsiderarem na planilha:\\n\\n- eu\\n- @5511930568112\\n- @5511996710909\\n- @34639263260\\n- @558294183737 mas como tem grupos já se formando, corre risco de termos grupos com baixa experiência, por isso não seria melhor definirmos isso o quanto antes Isso q ia falar.agora Podemos fazer hj Nosso grupo já está completo, então favor desconsiderar da planilha.\\n\\n- Eu\\n- @559699079041\\n- @556291393764\\n- @5519982100900\\n- @5515981154900 Antes ou depois da aula, sem problemas <Mídia oculta> Nosso grupo está equilibrado. Tomei o cuidado para equilibrar deixando 1x dev ( eu ) para que vocês possam equilibrar os demais grupos concordo plenamente Iolanda tranquilo… quem falta a gente se ajuda, se for o caso! Pessoal, estou em um grupo eu e a @5511985950997 , precisamos de 3 pessoas. 1 precisa ter um experiencia com DEV, se possivel. Alguem se habilita? Mensagem apagada Uma coisa importante pra se lembrar, é:\\nEssa divisão de equipes de trabalho, NÃO é uma separação desse GRUPO de WhatsApp.\\nEu mesmo já criei uma equipe e vi outras pessoas criando as próprias, mas é importante se manter presente neste grupo para a colaboração de todos. Então assim como pode ocorrer da nossa equipe necessitar de ajuda e solicitar aqui, encorajo a quem precisar de ajuda, tiver dúvidas, informar aqui, para que nós mesmos ou outras pessoas, possam ajudar. quem tem o link do excel? Depois que preenchemos o form, ficamos no limbo. fixa ele na descrição pessoal :) Mensagem apagada Pessoal, acho que os grupos não deveriam segrega o conhecimento.\\nPodemos nos ajudar independente de grupo. O que precisarem aí contem comigo O link está no discord, Grupo Classe - Planejamento, segue: https://docs.google.com/spreadsheets/d/1Z6FK-69PI5kYySScJReSNiDXfeoy6p3bN_SMZndt-mQ/edit?resourcekey=&gid=344293194#gid=344293194 Vou te chamar Boa tarde galera blz 😁\\nVi que o pessoal desistiu do forms e estão ja montando os grupos, caso alguém tenha vaga ou queira montar um grupo estou disponível.\\n\\nNão tenho experiência mas tenho muita vontade e foco para aprender..se alguém que nao tem experiência quiser fazer grupo garanto que vamos aprender nem que seja na marra 🤣 Boa tarde pessoal, ainda não tenho equipe também.\\nNão tenho experiência. Sou eletromecânico e estou focado em aprender e me desenvolver nesse nova área. Gostaria de entrar em algum grupo também o meu receio é de que vamos juntar 5 pessoas sem experiencia nenhuma em muitos grupos.....e na hora da duvida vai estar todo mundo ocupado com o seu proprio trabalho Pior...a gelera esta se junta a maioria com quem ja tem experiência Que nao tem fica desalocado ou acaba fazendo sozinho sim Pode vir comigo e o Murilo A gente da um jeito bora então] é isso AI literalmente Já fizeram um grupo no WhatsApp! ? quer que crie um? pra nos 3 ? Sim melhor Galera ja estamos em grupo\\n\\nEu\\n@5511938006662\\n@5511975735383\\n@554896863723\\n\\nTemos mais uma vaga Posso entrar? Pode sim Blz ja te adiciono e so aceitar o convite e entrar@pedro gente, acrescenteri duas abas na planilha do agronegocio tem todos os links sugeridos no whats organizados e os telefones do professores Show!!!! @admin na hora que o agro acabar a gente nao pode deletar essas abas se tiverem alguma atualização ja coloquem lá, por favor <Mídia oculta> <Mídia oculta> eu acho mais facil de achar Também estou procurando grupo. Mas não ficou marcada a reunião para segunda para discutir isso? Acho que a galera desistiu do forms que seria a reunião e começou a se juntar por aqui mesmo Não vai ter mais reunião então? Caramba Acho que nao meu mano Eu também montei com o pessoal agr de ultima hora Que m… em todo o caso… algum grupo aí? Estou precisando montar o meu tb Foi em 30 segundos qual q foi a treta pra cancelar reunião? ideia era boa Não estou sabendo… passei o dia todo em reunião hj Também n sei Acho que mesmo que a reunião não seja para definir grupo, seria legal ter alguma para o pessoal se conhecer Mas acho q muita gente ainda n tem grupo devem responder mais tarde Apesar que são 105, então seria meio caótico rs Sim,e mo galera se juntou só com quem tem algum tipo de experiência, entao provavelmente ta bem desbalanceado..que nao tem experiência ta a deriva 🆘 <Mídia oculta> Fala galera. Estou sem grupo, se tiver espaço em algum. Tô livre 😊.\\nZero exp dev\\nZero exp agro https://meetu.ps/e/NqYm9/gKc4C/i que horas ser a live hoje e alguem pode me mandar o link pfvr Boa noite pessoas,  espero que estejam bem esse site meetup é muito massa pra participar de eventos de tecnología, da pra conhecer pessoas e se ver o que ta rolando no mercado de trabalho https://www.fiap.com.br/graduacao/fiap-first-week/ Ah esse aqui é um meet up da fiap Alguem sabe o tema da live de hj? 🤘🏻 Tá nesse link Tema e os convidados Cara, a Live de hoje acho que vai ser bem importante, por que vamos ter a introdução daquele link dos cursos de cloud que mandaram aqui. <Mensagem editada> Sem contar que tem gente da IBM. Quando eu fazia engenharia eles davam aula em cada palestra que acontecia Vale muito a pena Putss nao vou poder participar Sera q fica gravada? Aí não . sei Qual o link? Tem ai alguem? Só clicar aqui, e depois ir na data de hoje que abre a live https://meetu.ps/e/NqYm9/gKc4C/i precisa se cadastrar na plataforma <Mídia oculta> o ollama dá para testar no seu próprio computador\\nhttps://ollama.com/ Muito bom Booa!! onde que clica mesmo para a iniciação cientifica? <Mídia oculta> <Mídia oculta> Link para 1 mes gratis Watson i.a:  https://www.ibm.com/products/watsonx-aihttps://www.ibm.com/products/watsonx-ai\\n\\nhttps://skillsbuild.org/pt-br (Cursos de i.a) Achei q fosse da própria fiap alguém tem o link do grupo do whatsApp fácil por ai? =) <Mídia oculta> Esses Skillsbuild são da IBM. https://chat.whatsapp.com/D2AmV079eaE8EnJfIDU6nF Toma essa surra de informação da Vanessa! rs A mulher tá voando!! É muita informação excelente viu Se buscar isso no Google ia levar muito tempo pra juntar toda essa informação e talvez nem ia achar tudo Eles tão  mandando muito bem chamando essa galera pra palestrar Quero esse material... Está tendo live hoje? No site não aparece pra mim nao era de 7 as 8? achei que tivesse perdido horário e to vendo a de ntem Trabalhamos com margem de erro de uma ou duas horas kkkkkkkkk ontem ah sim meu gap era de no máximo 5 min Eu aprendi ontem as calls dessa semana estão no site first week, não estão no calendário oficial senão me ferrava https://www.fiap.com.br/graduacao/fiap-first-week/ Alguém conseguiu o linkedin da Vanessa? muito massa a talk https://www.linkedin.com/in/vanessa-alves-dos-santos/ Fácil de achar :D Podíamos nos adicionar tb né? Depois vemos hehe, vou deixar meu aqui Sim https://www.linkedin.com/in/caiorcastro/ Põe no excel Centralizar os dados Tá cheio de cyberataque de MaaS e RaaS Ah boa! Eu não consigo acompanhar todo o grupo durante o dia (trampo) :/\\nUma ideia seria os links importantes a gente sempre deixar na descrição do grupo, o que acham? Vou atualizando lá conteúdo aos poucos Tem o Discord !! Vc ja tem o link ? Galera, não sei qual vai ser utilidade real desse email rmXXXX@fiap.com.br que recebemos, maaas segue aqui como redirecionar os emails da caixa do outlook para seu principal\\n\\nhttps://support.microsoft.com/pt-br/topic/ativar-o-reencaminhamento-autom%C3%A1tico-no-outlook-7f2670a1-7fff-4475-8a3c-5822d63b0c8e#PickTab=Web o office 365 vai todo junto com teams  e o que os professores postam acho q so vai servir pra contato com o corpo docente.... o resto é interessante A Oracle tá dando uma baita oportunidade A real utilidade eu também não sei, mas esse e-mail pode ser usado para participar dos programas estudantis, como o do github e da jetbrains isso é bom tb Alguém conseguiu printar o Qr Code? <Mídia oculta> Boa galera.. Vou precisar desses qr codes <Mídia oculta> Gente eu n consegui participar da aula, alguem consegue me resumir oq seria isso? Alguém consegue me.passar o link do form? Tô sem cel https://forms.office.com/pages/responsepage.aspx?id=4r_bEbiJSUW-EM7DZOWVUWZGfs6N_9xPqyfrKgxZ-wNUMDVQU1pYVEVPQkVIQlEzMFFMVDJRTUFORy4u&origin=QRCode&route=shorturl É o link pra você aplicar pra uma das 5 principais formações da Oracle de forma gratuita Muito obrigado, vou correr aqui! Ja quero Caso não saibam muito bem o que faz cada área, é só jogar no ChatGPT que ele explica direitinho Obrigado boa noite pessoal, tá difícil acompanhar todas as mensagens aqui. mas as vezes vou aparecer por aqui...\\n\\nvi que estão falando um pouco da história de cada um, por isso segue meu perfil:\\n\\nSou um líder de engenharia de software com mais de 13 anos de experiência em desenvolver soluções inovadoras e escaláveis para diversos setores. Atualmente, lidero a equipe de engenharia de software na F1RST, uma empresa de tecnologia do grupo Santander. Já trabalhei no Nubank e na Accenture também. (alguns aqui já me adicionaram no LinkedIn, mas segue novamente meu perfil) https://www.linkedin.com/in/gustavo-segantini-rossignolli e aqui vai uma contribuição para os iniciantes\\n\\nhttps://www.dio.me/bootcamp/engenharia-dados-python os Bootcamp dio é bao, direto libera uns legais Seguindo o exemplo do Gustavo vou me apresentar e já me colocar como disponível pra apoiar a galera onde for possível. Da mesma forma, não consigo acompanhar o chat, mas vou acompanhando conforme der!\\n\\nMeu nome é Rodrigo Mastropietro e já trabalhei como Dev e Arquiteto Java, fui CTO de Startup e hoje sou gestor na SAP Brasil para a área de Customer Experience. Tenho uns 15 anos de experiência e estou à disposição pra apoiar onde eu puder.\\n\\nNão estou em nenhum grupo ainda e, caso tenham vaga me avisem pra podermos trocar uma ideia.\\n\\nDeixo meu Linkedin pra contato:\\nhttps://www.linkedin.com/in/rmastropietro/ Estou sem também e sei nada de dev. Blz Tiago. Montamos então e já vemos quem mais tá sem grupo pra por com a gente. Essa primeira semana estive fora de terça até hoje a trabalho não deu nem tempo de ver todas as lives.  Certeza que tem mais gente na mesma situação. Eu também acabei ficando sem grupo. Tenho conhecimento básico em python e já trabalhei com agronegócio Combinado, Valeeu. o grupo que eu estou, a gente montou de bate pronto o tempo ta correndo...rs Eu estou sem grupo também, tenho conhecimento intermediário em programação Faz parte. Trabalhar e estudar é complicado. entra com o pessoal ai Entra com nós Você também ✌🏻 Bora!! Vamos nessa! Boa pessoal. Estamos então no grupo (confirmem por favor e ai ja organizamos a melhor forma de nos falarmos):\\n\\nEu\\nTiago Bastos\\nIago Cotta\\nGustavo Rossignolli Fechou? Fechou Tem espaço pra mais um Sim. Se tiver mais alguém, convidamos e já entra com a gente. Pode ser eu? Opa Pode sim já foram mais rápido e me colocaram num grupo aqui... 🙃 Captamos o Gustavo hahaha Tranquilo. Hahahaha https://www.veed.io/ <Mídia oculta> <Mídia oculta> Favoritando pra salvar so perdi o link da musica <Mídia oculta> <Mídia oculta> @5511938006662 coloca no discord é muita ficção cientifica que não é mais Gente, eu adorei ~sem puxar saco~ cada uma desse first week mas a de encerramento foi no mínimo *inspiradora* hoje foi de bugar Anotei horrores kkkkk já fui pra narnia...rs com um robô em tamanho real kkkkkk To indo pra um show agora mas nao tenho nem cabeça pra isso kkkk to pensando só nas aplicações e olha que eu trabalho já com isso (na vdd minha funçao é essa) kkkk Eita, só consegui assistir o início 😔 Não consegui ver a live hj, sera q gravaram?? eu nao consigo parar de pensar rs To na mesma Pelo visto foi otima perdi tempo demais fazendo o que fazia Eu gravei boa parte (agora a noite ja tava na rua aí nao gravei o final) eu posso compartilhar tava no mundo errado Pse as primeiras lives tem, essa não sei Nossa pfvv Se puder me enviar Nao sei se eles deixam né Vou perguntar ta? Me envia tbm se puder Td bemm Ta gostando do mundo da tecnologia? do que a chatice de antes???? nao tenha dúvida to felizona Eu comecei a amar tbm mas é tanta coisa que parece q vc nunca sabe o bastante Q otimoo Amanhã mando um resumo da primeira semana com sei la uns 30 pontos por dia, pontos de açao e aprendizados e se deixarem eu solto os videos Quem daqui do grupo É da FIAP e me deixa mandar? Se liberarem, manda pra nós por favor. Consegui ver metade só <Mídia oculta> <Mídia oculta> Amanha eu subo as outras aulas 😃 é a teoria do conhecimento de Platão..... qto maior é o seu conhecimento maior é a sua ignorância...rs faz todo sentido Muito bom! 👏🏻👏🏻👏🏻👏🏻 Pessoal, a formação de grupos via questionário ainda está de pé? Caso não, eu estou sem grupo. Sou analista de marketing digital com formação em direito Se tiverem grupos disponíveis estou a disposição ✌🏻 <Mídia oculta> Podem usar tb ❤️ Quer ajuda? Quero! To usando o ai studio com gemini, mas trava quando bate 2mm tokens, to pensando em cortar as aulas nao sei… Chegae na sala de estudos Do Discord Aliás, pessoal, quem estiver por aí, chega na sala de estudos pra gente trocar uma ideia Manda mas a sala do discord que entrei nao da pra mandar mensagens (mas pode ser eu que nao uso muito o discord tb rntao nem sei) Tem a sala de estudos de voz/vídeo, chega lá Kd link Precisamos deixar um repositorio dos links na descriçao deste grupo….. descrição do grupo hj devo ficar por lá a madruga toda https://discord.gg/R59Cr2RE Eu entrei mas nao consigo mandar mensagens no link da descriçao atualizei o link Maravilha :D Eu perdi varios links, planilhas, foruns que rolaram nesse grupo aqui no horario comercial, tao todos la? Tinha pensado em amanha de manhã extrair essa conversa e pedir a exportaçao de links do que rolou nessa semana E o resumo da conversa e pontos altos Mas deixa esse problema pro Caio de amanhã resolver Kkkkkk eu juntei tudo em duas abas no form do desafio agro da uma olhada lá Hj tem show do cpm22 agora meia a noite e meia, se alguem for colar me avisa kk ❤️ Boaaa faltou ontem e hoje mas amanha faco isso Eai, grupo de auditoria de dados em I.A quem pula? Vamos salvar os Dados dos clientes```\"\n",
      "  ]\n",
      "}\n",
      "\u001b[36;1m\u001b[1;3m[llm/end]\u001b[0m \u001b[1m[chain:RunnableSequence > llm:ChatOpenAI] [8.16s] Exiting LLM run with output:\n",
      "\u001b[0m{\n",
      "  \"generations\": [\n",
      "    [\n",
      "      {\n",
      "        \"text\": \"### Resumo do Bate-Papo do WhatsApp\\n\\n---\\n\\n#### 1. Formação de Grupos\\n- **Discussão sobre formação de grupos para atividades:**\\n  - A maioria dos alunos está se organizando através de um formulário compartilhado: [Formulário de Formação de Grupos](https://forms.gle/FgrU5R4fd71tC3Vg9).\\n  - A ideia é organizar grupos conforme o nível de conhecimento (intermediário e avançado) em Python.\\n  - Vários participantes estão procurando grupos ou formando novos, destacando a necessidade de equilíbrio nas habilidades dentro dos grupos.\\n\\n---\\n\\n#### 2. Oportunidades da Oracle University\\n- **Inscrições para curso da Oracle:**\\n  - Os alunos foram lembrados de se inscreverem no material da Oracle University até 26/08, às 23:59hs, através do link: [Inscrição Oracle University](https://forms.office.com/Pages/ResponsePage.aspx?id=4r_bEbiJSUW-EM7DZOWVUWZGfs6N_9xPqyfrKgxZ-wNUMDVQU1pYVEVPQkVIQlEzMFFMVDJRTUFORy4u).\\n  - O suporte para dúvidas é fornecido pelo professor Antonio Sergio Rodrigues Figueiredo.\\n\\n---\\n\\n#### 3. Vagas de Trainee\\n- **Compartilhamento de vagas de trainee:**\\n  - Vagas abertas em diversas empresas foram compartilhadas, incluindo:\\n    - [Trainee Itaú](https://lnkd.in/dTexsixN)\\n    - [Trainee Ambev](https://lnkd.in/dWqeC3JM)\\n    - [Trainee Nestlé](https://lnkd.in/dF9d9EnY)\\n    - [Trainee Vale](https://lnkd.in/dvgPv_bz)\\n    - Outras empresas mencionadas incluem Kraft Heinz, L'Oreal, Alpargatas, Rede D'Or, Mastercard, entre outras.\\n\\n---\\n\\n#### 4. Discussões sobre Live e Materiais\\n- **Participação em lives e eventos:**\\n  - Discussões sobre o conteúdo e a importância das lives da FIAP, com recomendações para assistirem ao evento.\\n  - Compartilhamento de links úteis para eventos, como [FIAP First Week](https://www.fiap.com.br/graduacao/fiap-first-week/) e [Meetup](https://meetu.ps/e/NqYm9/gKc4C/i).\\n  \\n---\\n\\n#### 5. Ferramentas e Recursos\\n- **Ferramentas úteis mencionadas:**\\n  - Github Copilot para desenvolvimento.\\n  - Watson AI da IBM: [Link para 1 mês grátis](https://www.ibm.com/products/watsonx-ai).\\n  - Cursos de IA: [SkillsBuild](https://skillsbuild.org/pt-br).\\n  - O site Ollama para testar IA localmente: [Ollama](https://ollama.com).\\n\\n---\\n\\n#### 6. Apresentações Pessoais e Networking\\n- **Alunos apresentando suas experiências:**\\n  - Muitos participantes compartilharam suas formações e experiências, destacando a importância do networking.\\n  - Links do LinkedIn de palestrantes e alunos foram compartilhados para facilitar a conexão entre os membros do grupo.\\n\\n---\\n\\n#### 7. Organização e Colaboração\\n- **Sugestões para melhor organização do grupo:**\\n  - Proposta de centralizar links e informações importantes na descrição do grupo.\\n  - Criação de uma planilha colaborativa para organizar dados e recursos compartilhados.\\n\\n---\\n\\n#### 8. Conclusão e Próximos Passos\\n- **Continuação da colaboração:**\\n  - A necessidade de manter o grupo ativo para suporte mútuo e troca de conhecimentos foi destacada.\\n  - A formação de grupos continuará a ser discutida, e a capacidade de ajudar uns aos outros foi enfatizada.\\n\\n--- \\n\\nEste resumo compila os principais tópicos discutidos na conversa do WhatsApp, incluindo links e informações relevantes compartilhadas entre os participantes.\",\n",
      "        \"generation_info\": {\n",
      "          \"finish_reason\": \"stop\",\n",
      "          \"logprobs\": null\n",
      "        },\n",
      "        \"type\": \"ChatGeneration\",\n",
      "        \"message\": {\n",
      "          \"lc\": 1,\n",
      "          \"type\": \"constructor\",\n",
      "          \"id\": [\n",
      "            \"langchain\",\n",
      "            \"schema\",\n",
      "            \"messages\",\n",
      "            \"AIMessage\"\n",
      "          ],\n",
      "          \"kwargs\": {\n",
      "            \"content\": \"### Resumo do Bate-Papo do WhatsApp\\n\\n---\\n\\n#### 1. Formação de Grupos\\n- **Discussão sobre formação de grupos para atividades:**\\n  - A maioria dos alunos está se organizando através de um formulário compartilhado: [Formulário de Formação de Grupos](https://forms.gle/FgrU5R4fd71tC3Vg9).\\n  - A ideia é organizar grupos conforme o nível de conhecimento (intermediário e avançado) em Python.\\n  - Vários participantes estão procurando grupos ou formando novos, destacando a necessidade de equilíbrio nas habilidades dentro dos grupos.\\n\\n---\\n\\n#### 2. Oportunidades da Oracle University\\n- **Inscrições para curso da Oracle:**\\n  - Os alunos foram lembrados de se inscreverem no material da Oracle University até 26/08, às 23:59hs, através do link: [Inscrição Oracle University](https://forms.office.com/Pages/ResponsePage.aspx?id=4r_bEbiJSUW-EM7DZOWVUWZGfs6N_9xPqyfrKgxZ-wNUMDVQU1pYVEVPQkVIQlEzMFFMVDJRTUFORy4u).\\n  - O suporte para dúvidas é fornecido pelo professor Antonio Sergio Rodrigues Figueiredo.\\n\\n---\\n\\n#### 3. Vagas de Trainee\\n- **Compartilhamento de vagas de trainee:**\\n  - Vagas abertas em diversas empresas foram compartilhadas, incluindo:\\n    - [Trainee Itaú](https://lnkd.in/dTexsixN)\\n    - [Trainee Ambev](https://lnkd.in/dWqeC3JM)\\n    - [Trainee Nestlé](https://lnkd.in/dF9d9EnY)\\n    - [Trainee Vale](https://lnkd.in/dvgPv_bz)\\n    - Outras empresas mencionadas incluem Kraft Heinz, L'Oreal, Alpargatas, Rede D'Or, Mastercard, entre outras.\\n\\n---\\n\\n#### 4. Discussões sobre Live e Materiais\\n- **Participação em lives e eventos:**\\n  - Discussões sobre o conteúdo e a importância das lives da FIAP, com recomendações para assistirem ao evento.\\n  - Compartilhamento de links úteis para eventos, como [FIAP First Week](https://www.fiap.com.br/graduacao/fiap-first-week/) e [Meetup](https://meetu.ps/e/NqYm9/gKc4C/i).\\n  \\n---\\n\\n#### 5. Ferramentas e Recursos\\n- **Ferramentas úteis mencionadas:**\\n  - Github Copilot para desenvolvimento.\\n  - Watson AI da IBM: [Link para 1 mês grátis](https://www.ibm.com/products/watsonx-ai).\\n  - Cursos de IA: [SkillsBuild](https://skillsbuild.org/pt-br).\\n  - O site Ollama para testar IA localmente: [Ollama](https://ollama.com).\\n\\n---\\n\\n#### 6. Apresentações Pessoais e Networking\\n- **Alunos apresentando suas experiências:**\\n  - Muitos participantes compartilharam suas formações e experiências, destacando a importância do networking.\\n  - Links do LinkedIn de palestrantes e alunos foram compartilhados para facilitar a conexão entre os membros do grupo.\\n\\n---\\n\\n#### 7. Organização e Colaboração\\n- **Sugestões para melhor organização do grupo:**\\n  - Proposta de centralizar links e informações importantes na descrição do grupo.\\n  - Criação de uma planilha colaborativa para organizar dados e recursos compartilhados.\\n\\n---\\n\\n#### 8. Conclusão e Próximos Passos\\n- **Continuação da colaboração:**\\n  - A necessidade de manter o grupo ativo para suporte mútuo e troca de conhecimentos foi destacada.\\n  - A formação de grupos continuará a ser discutida, e a capacidade de ajudar uns aos outros foi enfatizada.\\n\\n--- \\n\\nEste resumo compila os principais tópicos discutidos na conversa do WhatsApp, incluindo links e informações relevantes compartilhadas entre os participantes.\",\n",
      "            \"response_metadata\": {\n",
      "              \"token_usage\": {\n",
      "                \"completion_tokens\": 847,\n",
      "                \"prompt_tokens\": 6228,\n",
      "                \"total_tokens\": 7075\n",
      "              },\n",
      "              \"model_name\": \"gpt-4o-mini-2024-07-18\",\n",
      "              \"system_fingerprint\": \"fp_48196bc67a\",\n",
      "              \"finish_reason\": \"stop\",\n",
      "              \"logprobs\": null\n",
      "            },\n",
      "            \"type\": \"ai\",\n",
      "            \"id\": \"run-468d9539-7fae-41ea-8c27-b117ee772214-0\",\n",
      "            \"usage_metadata\": {\n",
      "              \"input_tokens\": 6228,\n",
      "              \"output_tokens\": 847,\n",
      "              \"total_tokens\": 7075\n",
      "            },\n",
      "            \"tool_calls\": [],\n",
      "            \"invalid_tool_calls\": []\n",
      "          }\n",
      "        }\n",
      "      }\n",
      "    ]\n",
      "  ],\n",
      "  \"llm_output\": {\n",
      "    \"token_usage\": {\n",
      "      \"completion_tokens\": 847,\n",
      "      \"prompt_tokens\": 6228,\n",
      "      \"total_tokens\": 7075\n",
      "    },\n",
      "    \"model_name\": \"gpt-4o-mini-2024-07-18\",\n",
      "    \"system_fingerprint\": \"fp_48196bc67a\"\n",
      "  },\n",
      "  \"run\": null\n",
      "}\n",
      "\u001b[36;1m\u001b[1;3m[chain/end]\u001b[0m \u001b[1m[chain:RunnableSequence] [8.16s] Exiting Chain run with output:\n",
      "\u001b[0m[outputs]\n"
     ]
    },
    {
     "data": {
      "text/plain": [
       "AIMessage(content=\"### Resumo do Bate-Papo do WhatsApp\\n\\n---\\n\\n#### 1. Formação de Grupos\\n- **Discussão sobre formação de grupos para atividades:**\\n  - A maioria dos alunos está se organizando através de um formulário compartilhado: [Formulário de Formação de Grupos](https://forms.gle/FgrU5R4fd71tC3Vg9).\\n  - A ideia é organizar grupos conforme o nível de conhecimento (intermediário e avançado) em Python.\\n  - Vários participantes estão procurando grupos ou formando novos, destacando a necessidade de equilíbrio nas habilidades dentro dos grupos.\\n\\n---\\n\\n#### 2. Oportunidades da Oracle University\\n- **Inscrições para curso da Oracle:**\\n  - Os alunos foram lembrados de se inscreverem no material da Oracle University até 26/08, às 23:59hs, através do link: [Inscrição Oracle University](https://forms.office.com/Pages/ResponsePage.aspx?id=4r_bEbiJSUW-EM7DZOWVUWZGfs6N_9xPqyfrKgxZ-wNUMDVQU1pYVEVPQkVIQlEzMFFMVDJRTUFORy4u).\\n  - O suporte para dúvidas é fornecido pelo professor Antonio Sergio Rodrigues Figueiredo.\\n\\n---\\n\\n#### 3. Vagas de Trainee\\n- **Compartilhamento de vagas de trainee:**\\n  - Vagas abertas em diversas empresas foram compartilhadas, incluindo:\\n    - [Trainee Itaú](https://lnkd.in/dTexsixN)\\n    - [Trainee Ambev](https://lnkd.in/dWqeC3JM)\\n    - [Trainee Nestlé](https://lnkd.in/dF9d9EnY)\\n    - [Trainee Vale](https://lnkd.in/dvgPv_bz)\\n    - Outras empresas mencionadas incluem Kraft Heinz, L'Oreal, Alpargatas, Rede D'Or, Mastercard, entre outras.\\n\\n---\\n\\n#### 4. Discussões sobre Live e Materiais\\n- **Participação em lives e eventos:**\\n  - Discussões sobre o conteúdo e a importância das lives da FIAP, com recomendações para assistirem ao evento.\\n  - Compartilhamento de links úteis para eventos, como [FIAP First Week](https://www.fiap.com.br/graduacao/fiap-first-week/) e [Meetup](https://meetu.ps/e/NqYm9/gKc4C/i).\\n  \\n---\\n\\n#### 5. Ferramentas e Recursos\\n- **Ferramentas úteis mencionadas:**\\n  - Github Copilot para desenvolvimento.\\n  - Watson AI da IBM: [Link para 1 mês grátis](https://www.ibm.com/products/watsonx-ai).\\n  - Cursos de IA: [SkillsBuild](https://skillsbuild.org/pt-br).\\n  - O site Ollama para testar IA localmente: [Ollama](https://ollama.com).\\n\\n---\\n\\n#### 6. Apresentações Pessoais e Networking\\n- **Alunos apresentando suas experiências:**\\n  - Muitos participantes compartilharam suas formações e experiências, destacando a importância do networking.\\n  - Links do LinkedIn de palestrantes e alunos foram compartilhados para facilitar a conexão entre os membros do grupo.\\n\\n---\\n\\n#### 7. Organização e Colaboração\\n- **Sugestões para melhor organização do grupo:**\\n  - Proposta de centralizar links e informações importantes na descrição do grupo.\\n  - Criação de uma planilha colaborativa para organizar dados e recursos compartilhados.\\n\\n---\\n\\n#### 8. Conclusão e Próximos Passos\\n- **Continuação da colaboração:**\\n  - A necessidade de manter o grupo ativo para suporte mútuo e troca de conhecimentos foi destacada.\\n  - A formação de grupos continuará a ser discutida, e a capacidade de ajudar uns aos outros foi enfatizada.\\n\\n--- \\n\\nEste resumo compila os principais tópicos discutidos na conversa do WhatsApp, incluindo links e informações relevantes compartilhadas entre os participantes.\", response_metadata={'token_usage': {'completion_tokens': 847, 'prompt_tokens': 6228, 'total_tokens': 7075}, 'model_name': 'gpt-4o-mini-2024-07-18', 'system_fingerprint': 'fp_48196bc67a', 'finish_reason': 'stop', 'logprobs': None}, id='run-468d9539-7fae-41ea-8c27-b117ee772214-0', usage_metadata={'input_tokens': 6228, 'output_tokens': 847, 'total_tokens': 7075})"
      ]
     },
     "execution_count": 13,
     "metadata": {},
     "output_type": "execute_result"
    }
   ],
   "source": [
    "results = code_chain.invoke({\n",
    "    \"instruction\": SUMMARY_PROMPT,\n",
    "    \"messages\": full_chat_str,\n",
    "})\n",
    "results"
   ]
  },
  {
   "cell_type": "code",
   "execution_count": 14,
   "metadata": {},
   "outputs": [
    {
     "name": "stdout",
     "output_type": "stream",
     "text": [
      "('### Resumo do Bate-Papo do WhatsApp\\n'\n",
      " '\\n'\n",
      " '---\\n'\n",
      " '\\n'\n",
      " '#### 1. Formação de Grupos\\n'\n",
      " '- **Discussão sobre formação de grupos para atividades:**\\n'\n",
      " '  - A maioria dos alunos está se organizando através de um formulário '\n",
      " 'compartilhado: [Formulário de Formação de '\n",
      " 'Grupos](https://forms.gle/FgrU5R4fd71tC3Vg9).\\n'\n",
      " '  - A ideia é organizar grupos conforme o nível de conhecimento '\n",
      " '(intermediário e avançado) em Python.\\n'\n",
      " '  - Vários participantes estão procurando grupos ou formando novos, '\n",
      " 'destacando a necessidade de equilíbrio nas habilidades dentro dos grupos.\\n'\n",
      " '\\n'\n",
      " '---\\n'\n",
      " '\\n'\n",
      " '#### 2. Oportunidades da Oracle University\\n'\n",
      " '- **Inscrições para curso da Oracle:**\\n'\n",
      " '  - Os alunos foram lembrados de se inscreverem no material da Oracle '\n",
      " 'University até 26/08, às 23:59hs, através do link: [Inscrição Oracle '\n",
      " 'University](https://forms.office.com/Pages/ResponsePage.aspx?id=4r_bEbiJSUW-EM7DZOWVUWZGfs6N_9xPqyfrKgxZ-wNUMDVQU1pYVEVPQkVIQlEzMFFMVDJRTUFORy4u).\\n'\n",
      " '  - O suporte para dúvidas é fornecido pelo professor Antonio Sergio '\n",
      " 'Rodrigues Figueiredo.\\n'\n",
      " '\\n'\n",
      " '---\\n'\n",
      " '\\n'\n",
      " '#### 3. Vagas de Trainee\\n'\n",
      " '- **Compartilhamento de vagas de trainee:**\\n'\n",
      " '  - Vagas abertas em diversas empresas foram compartilhadas, incluindo:\\n'\n",
      " '    - [Trainee Itaú](https://lnkd.in/dTexsixN)\\n'\n",
      " '    - [Trainee Ambev](https://lnkd.in/dWqeC3JM)\\n'\n",
      " '    - [Trainee Nestlé](https://lnkd.in/dF9d9EnY)\\n'\n",
      " '    - [Trainee Vale](https://lnkd.in/dvgPv_bz)\\n'\n",
      " \"    - Outras empresas mencionadas incluem Kraft Heinz, L'Oreal, Alpargatas, \"\n",
      " \"Rede D'Or, Mastercard, entre outras.\\n\"\n",
      " '\\n'\n",
      " '---\\n'\n",
      " '\\n'\n",
      " '#### 4. Discussões sobre Live e Materiais\\n'\n",
      " '- **Participação em lives e eventos:**\\n'\n",
      " '  - Discussões sobre o conteúdo e a importância das lives da FIAP, com '\n",
      " 'recomendações para assistirem ao evento.\\n'\n",
      " '  - Compartilhamento de links úteis para eventos, como [FIAP First '\n",
      " 'Week](https://www.fiap.com.br/graduacao/fiap-first-week/) e '\n",
      " '[Meetup](https://meetu.ps/e/NqYm9/gKc4C/i).\\n'\n",
      " '  \\n'\n",
      " '---\\n'\n",
      " '\\n'\n",
      " '#### 5. Ferramentas e Recursos\\n'\n",
      " '- **Ferramentas úteis mencionadas:**\\n'\n",
      " '  - Github Copilot para desenvolvimento.\\n'\n",
      " '  - Watson AI da IBM: [Link para 1 mês '\n",
      " 'grátis](https://www.ibm.com/products/watsonx-ai).\\n'\n",
      " '  - Cursos de IA: [SkillsBuild](https://skillsbuild.org/pt-br).\\n'\n",
      " '  - O site Ollama para testar IA localmente: [Ollama](https://ollama.com).\\n'\n",
      " '\\n'\n",
      " '---\\n'\n",
      " '\\n'\n",
      " '#### 6. Apresentações Pessoais e Networking\\n'\n",
      " '- **Alunos apresentando suas experiências:**\\n'\n",
      " '  - Muitos participantes compartilharam suas formações e experiências, '\n",
      " 'destacando a importância do networking.\\n'\n",
      " '  - Links do LinkedIn de palestrantes e alunos foram compartilhados para '\n",
      " 'facilitar a conexão entre os membros do grupo.\\n'\n",
      " '\\n'\n",
      " '---\\n'\n",
      " '\\n'\n",
      " '#### 7. Organização e Colaboração\\n'\n",
      " '- **Sugestões para melhor organização do grupo:**\\n'\n",
      " '  - Proposta de centralizar links e informações importantes na descrição do '\n",
      " 'grupo.\\n'\n",
      " '  - Criação de uma planilha colaborativa para organizar dados e recursos '\n",
      " 'compartilhados.\\n'\n",
      " '\\n'\n",
      " '---\\n'\n",
      " '\\n'\n",
      " '#### 8. Conclusão e Próximos Passos\\n'\n",
      " '- **Continuação da colaboração:**\\n'\n",
      " '  - A necessidade de manter o grupo ativo para suporte mútuo e troca de '\n",
      " 'conhecimentos foi destacada.\\n'\n",
      " '  - A formação de grupos continuará a ser discutida, e a capacidade de '\n",
      " 'ajudar uns aos outros foi enfatizada.\\n'\n",
      " '\\n'\n",
      " '--- \\n'\n",
      " '\\n'\n",
      " 'Este resumo compila os principais tópicos discutidos na conversa do '\n",
      " 'WhatsApp, incluindo links e informações relevantes compartilhadas entre os '\n",
      " 'participantes.')\n"
     ]
    }
   ],
   "source": [
    "pprint(results.content)\n",
    "\n",
    "# copy to clipboard:\n",
    "import pyperclip\n",
    "pyperclip.copy(results.content)\n",
    "\n",
    "# save to file\n",
    "with open(SUMMARY_PATH, \"w\") as file:\n",
    "    file.write(results.content)"
   ]
  },
  {
   "cell_type": "code",
   "execution_count": 15,
   "metadata": {},
   "outputs": [
    {
     "data": {
      "text/plain": [
       "7075"
      ]
     },
     "execution_count": 15,
     "metadata": {},
     "output_type": "execute_result"
    }
   ],
   "source": [
    "results.usage_metadata['total_tokens']"
   ]
  },
  {
   "cell_type": "code",
   "execution_count": 16,
   "metadata": {},
   "outputs": [
    {
     "name": "stdout",
     "output_type": "stream",
     "text": [
      "<class 'pandas.core.frame.DataFrame'>\n",
      "Index: 397 entries, 2224 to 2623\n",
      "Data columns (total 8 columns):\n",
      " #   Column       Non-Null Count  Dtype         \n",
      "---  ------       --------------  -----         \n",
      " 0   Date         397 non-null    object        \n",
      " 1   Time         397 non-null    object        \n",
      " 2   Id           397 non-null    object        \n",
      " 3   Message      397 non-null    object        \n",
      " 4   Type         397 non-null    object        \n",
      " 5   Action_type  0 non-null      object        \n",
      " 6   Order        397 non-null    int64         \n",
      " 7   DateTime     397 non-null    datetime64[ns]\n",
      "dtypes: datetime64[ns](1), int64(1), object(6)\n",
      "memory usage: 27.9+ KB\n"
     ]
    }
   ],
   "source": [
    "messages_df.info()"
   ]
  }
 ],
 "metadata": {
  "kernelspec": {
   "display_name": "hug",
   "language": "python",
   "name": "python3"
  },
  "language_info": {
   "codemirror_mode": {
    "name": "ipython",
    "version": 3
   },
   "file_extension": ".py",
   "mimetype": "text/x-python",
   "name": "python",
   "nbconvert_exporter": "python",
   "pygments_lexer": "ipython3",
   "version": "3.11.5"
  }
 },
 "nbformat": 4,
 "nbformat_minor": 2
}

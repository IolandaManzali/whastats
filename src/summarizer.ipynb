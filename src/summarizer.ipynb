{
 "cells": [
  {
   "cell_type": "markdown",
   "metadata": {},
   "source": [
    "# Whatstics\n",
    "\n",
    "### This script summarizes a WhatsApp chat history.\n",
    "\n",
    "<br>\n",
    "\n",
    "🚨🚨🚨🚨🚨 CAUTION 🚨🚨🚨🚨🚨\n",
    "\n",
    "The script use openai api and may cost you A LOT OF MONEY. Please be aware of that.\n",
    "\n",
    "<br>"
   ]
  },
  {
   "cell_type": "markdown",
   "metadata": {},
   "source": [
    "# 1. First configure Date limits and the paths\n",
    "\n",
    "For example:\n",
    "- START_DATE = \"2024-08-23\"\n",
    "- END_DATE = \"2024-08-23\"\n",
    "- PATH = \"../history/chat.txt\"\n",
    "- OUTPUT_PATH = \"../summary/output.txt\"\n",
    "\n",
    "Start and end date are inclusive, and must be equal\n",
    "\n",
    "🚨🚨🚨🚨🚨 CAUTION 🚨🚨🚨🚨🚨\n",
    "\n",
    "Bigger the date range, more expensive the cost."
   ]
  },
  {
   "cell_type": "code",
   "execution_count": null,
   "metadata": {},
   "outputs": [],
   "source": [
    "START_DATE = \"2024-08-23\"\n",
    "END_DATE = \"2024-08-23\"\n",
    "\n",
    "FILE_PATH = \"../history/conversa.txt\"\n",
    "SUMMARY_PATH = \"../summary/summary.txt\""
   ]
  },
  {
   "cell_type": "code",
   "execution_count": null,
   "metadata": {},
   "outputs": [],
   "source": [
    "from dotenv import load_dotenv\n",
    "\n",
    "# Load environment variables from .env file\n",
    "load_dotenv()\n"
   ]
  },
  {
   "cell_type": "code",
   "execution_count": null,
   "metadata": {},
   "outputs": [],
   "source": [
    "import pandas as pd\n",
    "import re\n",
    "\n",
    "\n",
    "def add_mesage_to_df(messages, date, time, id, message, type_=\"message\", subtype=None):\n",
    "    messages.append(\n",
    "        {\n",
    "            \"Date\": date,\n",
    "            \"Time\": time,\n",
    "            \"Id\": id,\n",
    "            \"Message\": message,\n",
    "            \"Type\": type_,\n",
    "            \"Action_type\": subtype,\n",
    "        }\n",
    "    )\n",
    "    return messages\n",
    "\n",
    "\n",
    "def manage_action(messages, current_date, current_time, id, rest_of_line):\n",
    "    if \"entrou usando o link de convite deste grupo\" in rest_of_line:\n",
    "        action_type = \"entry\"\n",
    "        id = rest_of_line.split(\"entrou usando o link de convite deste grupo\")[\n",
    "            0\n",
    "        ].strip()\n",
    "    elif \"saiu\" in rest_of_line:\n",
    "        action_type = \"exit\"\n",
    "        id = rest_of_line.split(\"saiu\")[0].strip()\n",
    "    elif \"mudou a descrição do grupo\" in rest_of_line:\n",
    "        action_type = \"description_change\"\n",
    "        id = rest_of_line.split(\"mudou a descrição do grupo\")[0].strip()\n",
    "    elif \"fixou uma mensagem\" in rest_of_line:\n",
    "        action_type = \"message_pin\"\n",
    "        id = rest_of_line.split(\"fixou uma mensagem\")[0].strip()\n",
    "    elif \"mudou as configurações\" in rest_of_line:\n",
    "        action_type = \"group_settings_change\"\n",
    "        id = rest_of_line.split(\"mudou as configurações do grupo\")[0].strip()\n",
    "    elif \"(arquivo anexado)\" in rest_of_line:\n",
    "        action_type = \"file_attach\"\n",
    "        id = rest_of_line.split(\"(arquivo anexado)\")[0].strip()\n",
    "    elif \"criou o grupo\" in rest_of_line:\n",
    "        action_type = \"group_create\"\n",
    "        id = rest_of_line.split(\"criou o grupo\")[0].strip()\n",
    "    elif \"foi adicionado(a)\" in rest_of_line:\n",
    "        action_type = \"add\"\n",
    "        id = rest_of_line.split(\"foi adicionado(a)\")[0].strip()\n",
    "    else:\n",
    "        print(\"Error line:\", rest_of_line)\n",
    "        assert False\n",
    "\n",
    "    add_mesage_to_df(\n",
    "        messages, current_date, current_time, id, None, \"action\", subtype=action_type\n",
    "    )\n",
    "\n",
    "\n",
    "def parse_whatsapp_history(file_path):\n",
    "    # Lista para armazenar as mensagens extraídas\n",
    "    messages = []\n",
    "\n",
    "    # Ler o arquivo de histórico\n",
    "    with open(file_path, \"r\", encoding=\"utf-8\") as file:\n",
    "        lines = file.readlines()\n",
    "\n",
    "    # Regex para identificar a data, hora e número do remetente\n",
    "    date_and_time_pattern = re.compile(r\"(\\d{2}/\\d{2}/\\d{4}) (\\d{2}:\\d{2}) - (.*)\")\n",
    "\n",
    "    # Variáveis para acumular mensagens\n",
    "    current_date = None\n",
    "    current_time = None\n",
    "    current_id = None\n",
    "    current_message = None\n",
    "\n",
    "    for line in lines:\n",
    "        # Verifica se a linha corresponde ao padrão de uma nova mensagem\n",
    "        match = date_and_time_pattern.match(line)\n",
    "        if match:\n",
    "            if current_message:\n",
    "                messages = add_mesage_to_df(\n",
    "                    messages, current_date, current_time, current_id, current_message\n",
    "                )\n",
    "            current_message = \"\"\n",
    "            current_date, current_time, rest_of_line = match.groups()\n",
    "            if \"‎\" in rest_of_line:\n",
    "                manage_action(\n",
    "                    messages, current_date, current_time, current_id, rest_of_line\n",
    "                )\n",
    "            else:\n",
    "                if \":\" in rest_of_line:\n",
    "                    current_id, message = rest_of_line.split(\":\", 1)\n",
    "                    current_message = message.strip()\n",
    "        else:\n",
    "            current_message += \"\\n\" + line.strip()\n",
    "\n",
    "    messages = add_mesage_to_df(\n",
    "        messages, current_date, current_time, current_id, current_message, \"message\"\n",
    "    )\n",
    "\n",
    "    df = pd.DataFrame(messages)\n",
    "\n",
    "    df[\"Order\"] = range(1, len(df) + 1)\n",
    "    \n",
    "    df[\"DateTime\"] = pd.to_datetime(df[\"Date\"].astype(str) + \" \" + df[\"Time\"].astype(str))\n",
    "\n",
    "    return df"
   ]
  },
  {
   "cell_type": "code",
   "execution_count": null,
   "metadata": {},
   "outputs": [],
   "source": [
    "# Exemplo de uso\n",
    "history = parse_whatsapp_history(FILE_PATH)\n",
    "history[history[\"Type\"] != \"message\"].head()"
   ]
  },
  {
   "cell_type": "code",
   "execution_count": null,
   "metadata": {},
   "outputs": [],
   "source": [
    "history.info()"
   ]
  },
  {
   "cell_type": "code",
   "execution_count": null,
   "metadata": {},
   "outputs": [],
   "source": [
    "print(\"Min DateTime:\", history[\"DateTime\"].min())\n",
    "print(\"Max DateTime:\", history[\"DateTime\"].max())"
   ]
  },
  {
   "cell_type": "code",
   "execution_count": null,
   "metadata": {},
   "outputs": [],
   "source": [
    "from datetime import datetime, timedelta\n",
    "\n",
    "# Convert strings to datetime objects\n",
    "start_datetime = datetime.strptime(START_DATE, \"%Y-%m-%d\")\n",
    "end_datetime = datetime.strptime(END_DATE, \"%Y-%m-%d\") + timedelta(days=1)\n",
    "\n",
    "print(start_datetime, end_datetime)\n",
    "\n",
    "messages_df = history[\n",
    "    (history[\"Type\"] == \"message\")\n",
    "    & (history[\"DateTime\"] >= start_datetime)\n",
    "    & (history[\"DateTime\"] < end_datetime)\n",
    "]\n",
    "print(len(messages_df))\n",
    "messages_df.tail()"
   ]
  },
  {
   "cell_type": "code",
   "execution_count": null,
   "metadata": {},
   "outputs": [],
   "source": [
    "print(\"Min DateTime:\", messages_df[\"DateTime\"].min())\n",
    "print(\"Max DateTime:\", messages_df[\"DateTime\"].max())"
   ]
  },
  {
   "cell_type": "code",
   "execution_count": null,
   "metadata": {},
   "outputs": [],
   "source": [
    "from pprint import pprint\n",
    "\n",
    "# Full chat string\n",
    "# Every new message starts with a new line followed by NM:\n",
    "full_chat_str = \" \".join(messages_df[\"Message\"].values)\n",
    "\n",
    "full_chat_str[1000:2000]"
   ]
  },
  {
   "cell_type": "code",
   "execution_count": null,
   "metadata": {},
   "outputs": [],
   "source": [
    "from pprint import pprint\n",
    "\n",
    "# prompts from: https://github.com/omer-go/group_chat_summarizer\n",
    "# Many thanks!\n",
    "\n",
    "start_datetime_prompt =  start_datetime.strftime(\"%d/%m/%Y\")\n",
    "end_datetime_prompt = datetime.strptime(END_DATE, \"%Y-%m-%d\").strftime(\"%d/%m/%Y\")\n",
    "\n",
    "print(start_datetime_prompt, end_datetime_prompt)\n",
    "\n",
    "date_range_prompt = \"\"\n",
    "if start_datetime_prompt != end_datetime_prompt:\n",
    "    date_range_prompt = f\"de {start_datetime_prompt} a {end_datetime_prompt}\"\n",
    "else:\n",
    "    date_range_prompt = f\"em {start_datetime_prompt}\"\n",
    "\n",
    "SUMMARY_PROMPT = f\"\"\"Por favor, resuma o seguinte bate-papo de grupo do WhatsApp com base nos tópicos discutidos. As conversas ocorreram {date_range_prompt}. Para cada tópico, inclua seu título e um resumo em tópicos. Os tópicos devem incluir informações detalhadas e relevantes para nossa turma de Graduação em Inteligência Artificial. Inclua no resumo todas as recomendações sobre empresas, serviços específicos, vagas de emprego, recomendações de ferramentas computacionais, recursos educacionais e contatos (links de redes sociais, email ou telefones). Inclua também todos os links que foram compartilhados.\"\"\"\n",
    "NEWSLETTER_PROMPT = f\"\"\"Por favor, forneça um parágrafo para abrir uma newsletter cobrindo os seguintes tópicos:\"\"\"\n",
    "\n",
    "pprint(SUMMARY_PROMPT)"
   ]
  },
  {
   "cell_type": "code",
   "execution_count": null,
   "metadata": {},
   "outputs": [],
   "source": [
    "def print_model(model):\n",
    "    print(\"Uging model: \")\n",
    "    print(model.dict())\n",
    "    print('\\n\\n')"
   ]
  },
  {
   "cell_type": "code",
   "execution_count": null,
   "metadata": {},
   "outputs": [],
   "source": [
    "import langchain\n",
    "from langchain_openai import ChatOpenAI\n",
    "from langchain_core.prompts import PromptTemplate\n",
    "from langchain_core.output_parsers import JsonOutputParser\n",
    "\n",
    "# llm = ChatOpenAI(model=\"gpt-4o\")\n",
    "llm = ChatOpenAI(model=\"gpt-4o-mini\")\n",
    "print_model(llm)\n",
    "\n",
    "code_prompt = PromptTemplate(\n",
    "    template=\"{instruction}\\nAs mensagens: ```\\{messages}```\",\n",
    "    input_variables=[\"instruction\", \"messages\"],\n",
    ")\n",
    "\n",
    "code_chain = code_prompt | llm\n",
    "\n",
    "langchain.debug = True\n"
   ]
  },
  {
   "cell_type": "code",
   "execution_count": null,
   "metadata": {},
   "outputs": [],
   "source": [
    "results = code_chain.invoke({\n",
    "    \"instruction\": SUMMARY_PROMPT,\n",
    "    \"messages\": full_chat_str,\n",
    "})\n",
    "results"
   ]
  },
  {
   "cell_type": "code",
   "execution_count": null,
   "metadata": {},
   "outputs": [],
   "source": [
    "pprint(results.content)\n",
    "\n",
    "# copy to clipboard:\n",
    "import pyperclip\n",
    "pyperclip.copy(results.content)\n",
    "\n",
    "# save to file\n",
    "with open(SUMMARY_PATH, \"w\") as file:\n",
    "    file.write(results.content)"
   ]
  },
  {
   "cell_type": "code",
   "execution_count": null,
   "metadata": {},
   "outputs": [],
   "source": [
    "results.usage_metadata['total_tokens']"
   ]
  },
  {
   "cell_type": "code",
   "execution_count": null,
   "metadata": {},
   "outputs": [],
   "source": [
    "messages_df.info()"
   ]
  }
 ],
 "metadata": {
  "kernelspec": {
   "display_name": "hug",
   "language": "python",
   "name": "python3"
  },
  "language_info": {
   "codemirror_mode": {
    "name": "ipython",
    "version": 3
   },
   "file_extension": ".py",
   "mimetype": "text/x-python",
   "name": "python",
   "nbconvert_exporter": "python",
   "pygments_lexer": "ipython3",
   "version": "3.11.5"
  }
 },
 "nbformat": 4,
 "nbformat_minor": 2
}
